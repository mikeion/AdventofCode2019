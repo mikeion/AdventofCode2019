{
 "cells": [
  {
   "cell_type": "markdown",
   "metadata": {},
   "source": [
    "### Yo Yannis.\n",
    "\n",
    "**There are tons and tons of ways to do this. I'll show three examples.**"
   ]
  },
  {
   "cell_type": "code",
   "execution_count": 1,
   "metadata": {},
   "outputs": [
    {
     "name": "stdout",
     "output_type": "stream",
     "text": [
      "Average of the list [13, 14, 18, 28] is 18.25\n",
      "Average of the list [1, 2, 3, 4, 5, 6, 7, 8, 9, 10] is 5.5\n"
     ]
    }
   ],
   "source": [
    "# Example 1: The way we did it yesterday.\n",
    "\n",
    "def average(list_of_numbers):\n",
    "    sum = 0\n",
    "    for number in list_of_numbers:\n",
    "        sum = sum + number\n",
    "    average = sum / len(list_of_numbers)\n",
    "    print(f\"Average of the list {list_of_numbers} is {average}\")\n",
    "\n",
    "#Let's see it work on two lists:\n",
    "l1 = [13, 14, 18, 28]\n",
    "l2 = [1,2,3,4,5,6,7,8,9,10]\n",
    "\n",
    "average(l1)\n",
    "average(l2)"
   ]
  },
  {
   "cell_type": "code",
   "execution_count": 2,
   "metadata": {},
   "outputs": [],
   "source": [
    "# Example 2: Let's shorten our code a little\n",
    "def average_shorter(list_of_numbers):\n",
    "    print(f\"Average of the list {list_of_numbers} is {sum(list_of_numbers)/len(list_of_numbers)}.\")"
   ]
  },
  {
   "cell_type": "code",
   "execution_count": 3,
   "metadata": {},
   "outputs": [
    {
     "name": "stdout",
     "output_type": "stream",
     "text": [
      "Average of the list [13, 14, 18, 28] is 18.25.\n",
      "Average of the list [1, 2, 3, 4, 5, 6, 7, 8, 9, 10] is 5.5.\n"
     ]
    }
   ],
   "source": [
    "average_shorter(l1)\n",
    "average_shorter(l2)"
   ]
  },
  {
   "cell_type": "code",
   "execution_count": 8,
   "metadata": {},
   "outputs": [
    {
     "name": "stdout",
     "output_type": "stream",
     "text": [
      "Average of list [13, 14, 18, 28] is 18.25\n",
      "Average of list [1, 2, 3, 4, 5, 6, 7, 8, 9, 10] is 5.5\n"
     ]
    }
   ],
   "source": [
    "#Example 3: Even shorter, let's use an internal Python function for averages.\n",
    "import statistics\n",
    "\n",
    "print(f\"Average of list {l1} is {statistics.mean(l1)}\")\n",
    "print(f\"Average of list {l2} is {statistics.mean(l2)}\")"
   ]
  },
  {
   "cell_type": "code",
   "execution_count": null,
   "metadata": {},
   "outputs": [],
   "source": []
  }
 ],
 "metadata": {
  "kernelspec": {
   "display_name": "Python 3",
   "language": "python",
   "name": "python3"
  },
  "language_info": {
   "codemirror_mode": {
    "name": "ipython",
    "version": 3
   },
   "file_extension": ".py",
   "mimetype": "text/x-python",
   "name": "python",
   "nbconvert_exporter": "python",
   "pygments_lexer": "ipython3",
   "version": "3.7.2"
  }
 },
 "nbformat": 4,
 "nbformat_minor": 2
}
