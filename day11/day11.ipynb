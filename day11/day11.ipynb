{
 "cells": [
  {
   "cell_type": "markdown",
   "metadata": {},
   "source": [
    "# Day 11\n",
    "\n",
    "## Part One:\n",
    "\n",
    "On the way to Jupiter, you're pulled over by the Space Police.\n",
    "\n",
    "\"Attention, unmarked spacecraft! You are in violation of Space Law! All spacecraft must have a clearly visible registration identifier! You have 24 hours to comply or be sent to Space Jail!\"\n",
    "\n",
    "Not wanting to be sent to Space Jail, you radio back to the Elves on Earth for help. Although it takes almost three hours for their reply signal to reach you, they send instructions for how to power up the emergency hull painting robot and even provide a small Intcode program (your puzzle input) that will cause it to paint your ship appropriately.\n",
    "\n",
    "There's just one problem: you don't have an emergency hull painting robot.\n",
    "\n",
    "You'll need to build a new emergency hull painting robot. The robot needs to be able to move around on the grid of square panels on the side of your ship, detect the color of its current panel, and paint its current panel black or white. (All of the panels are currently black.)\n",
    "\n",
    "The Intcode program will serve as the brain of the robot. The program uses input instructions to access the robot's camera: provide 0 if the robot is over a black panel or 1 if the robot is over a white panel. Then, the program will output two values:\n",
    "\n",
    "First, it will output a value indicating the color to paint the panel the robot is over: 0 means to paint the panel black, and 1 means to paint the panel white.\n",
    "Second, it will output a value indicating the direction the robot should turn: 0 means it should turn left 90 degrees, and 1 means it should turn right 90 degrees.\n",
    "After the robot turns, it should always move forward exactly one panel. The robot starts facing up.\n",
    "\n",
    "The robot will continue running for a while like this and halt when it is finished drawing. Do not restart the Intcode computer inside the robot during this process.\n",
    "\n",
    "For example, suppose the robot is about to start running. Drawing black panels as ., white panels as #, and the robot pointing the direction it is facing (< ^ > v), the initial state and region near the robot looks like this:\n",
    "<pre>\n",
    ".....\n",
    ".....\n",
    "..^..\n",
    ".....\n",
    ".....\n",
    "</pre>\n",
    "The panel under the robot (not visible here because a ^ is shown instead) is also black, and so any input instructions at this point should be provided 0. Suppose the robot eventually outputs 1 (paint white) and then 0 (turn left). After taking these actions and moving forward one panel, the region now looks like this:\n",
    "<pre>\n",
    ".....\n",
    ".....\n",
    ".<#..\n",
    ".....\n",
    ".....\n",
    "</pre>\n",
    "Input instructions should still be provided 0. Next, the robot might output 0 (paint black) and then 0 (turn left):\n",
    "<pre>\n",
    ".....\n",
    ".....\n",
    "..#..\n",
    ".v...\n",
    ".....\n",
    "</pre>\n",
    "After more outputs (1,0, 1,0):\n",
    "<pre>\n",
    ".....\n",
    ".....\n",
    "..^..\n",
    ".##..\n",
    ".....\n",
    "</pre>\n",
    "The robot is now back where it started, but because it is now on a white panel, input instructions should be provided 1. After several more outputs (0,1, 1,0, 1,0), the area looks like this:\n",
    "<pre>\n",
    ".....\n",
    "..<#.\n",
    "...#.\n",
    ".##..\n",
    ".....\n",
    "</pre>\n",
    "Before you deploy the robot, you should probably have an estimate of the area it will cover: specifically, you need to know the number of panels it paints at least once, regardless of color. In the example above, the robot painted 6 panels at least once. (It painted its starting panel twice, but that panel is still only counted once; it also never painted the panel it ended on.)\n",
    "\n",
    "Build a new emergency hull painting robot and run the Intcode program on it. How many panels does it paint at least once?\n",
    "\n",
    "To begin, get your puzzle input.\n",
    "\n"
   ]
  },
  {
   "cell_type": "code",
   "execution_count": null,
   "metadata": {},
   "outputs": [],
   "source": [
    "import sys\n",
    "sys.path.insert(0, \"../day9/)"
   ]
  }
 ],
 "metadata": {
  "kernelspec": {
   "display_name": "Python 3",
   "language": "python",
   "name": "python3"
  },
  "language_info": {
   "codemirror_mode": {
    "name": "ipython",
    "version": 3
   },
   "file_extension": ".py",
   "mimetype": "text/x-python",
   "name": "python",
   "nbconvert_exporter": "python",
   "pygments_lexer": "ipython3",
   "version": "3.7.2"
  }
 },
 "nbformat": 4,
 "nbformat_minor": 2
}
