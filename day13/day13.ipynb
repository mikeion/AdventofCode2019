{
 "cells": [
  {
   "cell_type": "markdown",
   "metadata": {},
   "source": [
    "# Day 13"
   ]
  },
  {
   "cell_type": "code",
   "execution_count": null,
   "metadata": {},
   "outputs": [],
   "source": [
    "After 0 steps:\n",
    "pos=<x=-1, y=  0, z= 2>, vel=<x= 0, y= 0, z= 0>\n",
    "pos=<x= 2, y=-10, z=-7>, vel=<x= 0, y= 0, z= 0>\n",
    "pos=<x= 4, y= -8, z= 8>, vel=<x= 0, y= 0, z= 0>\n",
    "pos=<x= 3, y=  5, z=-1>, vel=<x= 0, y= 0, z= 0>\n",
    "\n",
    "After 1 step:\n",
    "pos=<x= 2, y=-1, z= 1>, vel=<x= 3, y=-1, z=-1>\n",
    "pos=<x= 3, y=-7, z=-4>, vel=<x= 1, y= 3, z= 3>\n",
    "pos=<x= 1, y=-7, z= 5>, vel=<x=-3, y= 1, z=-3>\n",
    "pos=<x= 2, y= 2, z= 0>, vel=<x=-1, y=-3, z= 1>\n",
    "\n",
    "After 2 steps:\n",
    "pos=<x= 5, y=-3, z=-1>, vel=<x= 3, y=-2, z=-2>\n",
    "pos=<x= 1, y=-2, z= 2>, vel=<x=-2, y= 5, z= 6>\n",
    "pos=<x= 1, y=-4, z=-1>, vel=<x= 0, y= 3, z=-6>\n",
    "pos=<x= 1, y=-4, z= 2>, vel=<x=-1, y=-6, z= 2>\n",
    "\n",
    "After 3 steps:\n",
    "pos=<x= 5, y=-6, z=-1>, vel=<x= 0, y=-3, z= 0>\n",
    "pos=<x= 0, y= 0, z= 6>, vel=<x=-1, y= 2, z= 4>\n",
    "pos=<x= 2, y= 1, z=-5>, vel=<x= 1, y= 5, z=-4>\n",
    "pos=<x= 1, y=-8, z= 2>, vel=<x= 0, y=-4, z= 0>\n",
    "\n",
    "After 4 steps:\n",
    "pos=<x= 2, y=-8, z= 0>, vel=<x=-3, y=-2, z= 1>\n",
    "pos=<x= 2, y= 1, z= 7>, vel=<x= 2, y= 1, z= 1>\n",
    "pos=<x= 2, y= 3, z=-6>, vel=<x= 0, y= 2, z=-1>\n",
    "pos=<x= 2, y=-9, z= 1>, vel=<x= 1, y=-1, z=-1>\n",
    "\n",
    "After 5 steps:\n",
    "pos=<x=-1, y=-9, z= 2>, vel=<x=-3, y=-1, z= 2>\n",
    "pos=<x= 4, y= 1, z= 5>, vel=<x= 2, y= 0, z=-2>\n",
    "pos=<x= 2, y= 2, z=-4>, vel=<x= 0, y=-1, z= 2>\n",
    "pos=<x= 3, y=-7, z=-1>, vel=<x= 1, y= 2, z=-2>\n",
    "\n",
    "After 6 steps:\n",
    "pos=<x=-1, y=-7, z= 3>, vel=<x= 0, y= 2, z= 1>\n",
    "pos=<x= 3, y= 0, z= 0>, vel=<x=-1, y=-1, z=-5>\n",
    "pos=<x= 3, y=-2, z= 1>, vel=<x= 1, y=-4, z= 5>\n",
    "pos=<x= 3, y=-4, z=-2>, vel=<x= 0, y= 3, z=-1>\n",
    "\n",
    "After 7 steps:\n",
    "pos=<x= 2, y=-2, z= 1>, vel=<x= 3, y= 5, z=-2>\n",
    "pos=<x= 1, y=-4, z=-4>, vel=<x=-2, y=-4, z=-4>\n",
    "pos=<x= 3, y=-7, z= 5>, vel=<x= 0, y=-5, z= 4>\n",
    "pos=<x= 2, y= 0, z= 0>, vel=<x=-1, y= 4, z= 2>\n",
    "\n",
    "After 8 steps:\n",
    "pos=<x= 5, y= 2, z=-2>, vel=<x= 3, y= 4, z=-3>\n",
    "pos=<x= 2, y=-7, z=-5>, vel=<x= 1, y=-3, z=-1>\n",
    "pos=<x= 0, y=-9, z= 6>, vel=<x=-3, y=-2, z= 1>\n",
    "pos=<x= 1, y= 1, z= 3>, vel=<x=-1, y= 1, z= 3>\n",
    "\n",
    "After 9 steps:\n",
    "pos=<x= 5, y= 3, z=-4>, vel=<x= 0, y= 1, z=-2>\n",
    "pos=<x= 2, y=-9, z=-3>, vel=<x= 0, y=-2, z= 2>\n",
    "pos=<x= 0, y=-8, z= 4>, vel=<x= 0, y= 1, z=-2>\n",
    "pos=<x= 1, y= 1, z= 5>, vel=<x= 0, y= 0, z= 2>\n",
    "\n",
    "After 10 steps:\n",
    "pos=<x= 2, y= 1, z=-3>, vel=<x=-3, y=-2, z= 1>\n",
    "pos=<x= 1, y=-8, z= 0>, vel=<x=-1, y= 1, z= 3>\n",
    "pos=<x= 3, y=-6, z= 1>, vel=<x= 3, y= 2, z=-3>\n",
    "pos=<x= 2, y= 0, z= 4>, vel=<x= 1, y=-1, z=-1>"
   ]
  }
 ],
 "metadata": {
  "kernelspec": {
   "display_name": "Python 3",
   "language": "python",
   "name": "python3"
  },
  "language_info": {
   "codemirror_mode": {
    "name": "ipython",
    "version": 3
   },
   "file_extension": ".py",
   "mimetype": "text/x-python",
   "name": "python",
   "nbconvert_exporter": "python",
   "pygments_lexer": "ipython3",
   "version": "3.7.2"
  }
 },
 "nbformat": 4,
 "nbformat_minor": 2
}
