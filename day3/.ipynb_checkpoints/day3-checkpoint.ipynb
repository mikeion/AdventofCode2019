{
 "cells": [
  {
   "cell_type": "markdown",
   "metadata": {},
   "source": [
    "# Day 3: Crossed Wires\n",
    "## Part One\n",
    "\n",
    "The gravity assist was successful, and you're well on your way to the Venus refuelling station. During the rush back on Earth, the fuel management system wasn't completely installed, so that's next on the priority list.\n",
    "\n",
    "Opening the front panel reveals a jumble of wires. Specifically, two wires are connected to a central port and extend outward on a grid. You trace the path each wire takes as it leaves the central port, one wire per line of text (your puzzle input).\n",
    "\n",
    "The wires twist and turn, but the two wires occasionally cross paths. To fix the circuit, you need to find the intersection point closest to the central port. Because the wires are on a grid, use the Manhattan distance for this measurement. While the wires do technically cross right at the central port where they both start, this point does not count, nor does a wire count as crossing with itself.\n",
    "\n",
    "For example, if the first wire's path is R8,U5,L5,D3, then starting from the central port (o), it goes right 8, up 5, left 5, and finally down 3:\n",
    "\n",
    "\n",
    "\n",
    "Then, if the second wire's path is U7,R6,D4,L4, it goes up 7, right 6, down 4, and left 4:\n",
    "\n",
    "\n",
    "These wires cross at two locations (marked X), but the lower-left one is closer to the central port: its distance is 3 + 3 = 6.\n",
    "\n",
    "Here are a few more examples:\n",
    "\n",
    "R75,D30,R83,U83,L12,D49,R71,U7,L72\n",
    "U62,R66,U55,R34,D71,R55,D58,R83 = distance 159\n",
    "\n",
    "R98,U47,R26,D63,R33,U87,L62,D20,R33,U53,R51\n",
    "U98,R91,D20,R16,D67,R40,U7,R15,U6,R7 = distance 135\n",
    "\n",
    "What is the Manhattan distance from the central port to the closest intersection?"
   ]
  },
  {
   "cell_type": "code",
   "execution_count": 18,
   "metadata": {},
   "outputs": [],
   "source": [
    "two_wires = list(open('data/input_day3.txt', 'r').read().split())"
   ]
  },
  {
   "cell_type": "code",
   "execution_count": 19,
   "metadata": {},
   "outputs": [],
   "source": [
    "wire_1, wire_2 = two_wires[0].split(','), two_wires[1].split(',')"
   ]
  },
  {
   "cell_type": "code",
   "execution_count": 20,
   "metadata": {},
   "outputs": [],
   "source": [
    "horizontal_shifts = {'R': 1, 'L': -1, 'U': 0, 'D': 0}\n",
    "vertical_shifts = {'R': 0, 'L': 0, 'U': 1, 'D': -1}"
   ]
  },
  {
   "cell_type": "code",
   "execution_count": 21,
   "metadata": {},
   "outputs": [],
   "source": [
    "def find_gridpoints(wire):\n",
    "    x = 0\n",
    "    y = 0\n",
    "    grid_points = {}\n",
    "    for path in wire:\n",
    "        direction = path[0]\n",
    "        magnitude = int(path[1:])\n",
    "        x_0 = x\n",
    "        y_0 = y\n",
    "        for i in range(1,magnitude+1):\n",
    "            x = x_0 + horizontal_shifts[direction] * i\n",
    "            y = y_0 + vertical_shifts[direction] * i\n",
    "            if (x,y) not in grid_points:\n",
    "                grid_points[(x,y)] = abs(x) + abs(y)\n",
    "    return grid_points\n",
    "        "
   ]
  },
  {
   "cell_type": "code",
   "execution_count": 23,
   "metadata": {},
   "outputs": [],
   "source": [
    "def common_elements(d1, d2):\n",
    "    result = []\n",
    "    for key in d1.keys():\n",
    "        if d2.get(key):\n",
    "            result.append(key)\n",
    "    return result"
   ]
  },
  {
   "cell_type": "code",
   "execution_count": 24,
   "metadata": {},
   "outputs": [],
   "source": [
    "def distance_of_closest_point(w1, w2):\n",
    "    intersections = common_elements(w1,w2)\n",
    "    distances = []\n",
    "    for point in intersections:\n",
    "        dist = abs(point[0]) + abs(point[1])\n",
    "        distances.append(dist)\n",
    "    print(f\"The shortest Manhattan distance is {min(distances)}\")\n",
    "    "
   ]
  },
  {
   "cell_type": "code",
   "execution_count": 25,
   "metadata": {},
   "outputs": [
    {
     "name": "stdout",
     "output_type": "stream",
     "text": [
      "The shortest Manhattan distance is 3247\n"
     ]
    }
   ],
   "source": [
    "distance_of_closest_point(find_gridpoints(wire_1), find_gridpoints(wire_2))"
   ]
  },
  {
   "cell_type": "markdown",
   "metadata": {},
   "source": [
    "## Part Two\n",
    "\n",
    "It turns out that this circuit is very timing-sensitive; you actually need to minimize the signal delay.\n",
    "\n",
    "To do this, calculate the number of steps each wire takes to reach each intersection; choose the intersection where the sum of both wires' steps is lowest. If a wire visits a position on the grid multiple times, use the steps value from the first time it visits that position when calculating the total value of a specific intersection.\n",
    "\n",
    "The number of steps a wire takes is the total number of grid squares the wire has entered to get to that location, including the intersection being considered. \n",
    "\n",
    "What is the fewest combined steps the wires must take to reach an intersection?"
   ]
  },
  {
   "cell_type": "code",
   "execution_count": 26,
   "metadata": {},
   "outputs": [],
   "source": [
    "def find_gridpoints_with_stepcount(wire):\n",
    "    x = 0\n",
    "    y = 0\n",
    "    grid_points_with_stepcount = {}\n",
    "    steps = 0\n",
    "    for path in wire:\n",
    "        direction = path[0]\n",
    "        magnitude = int(path[1:])\n",
    "        x_0 = x\n",
    "        y_0 = y\n",
    "        for i in range(1,magnitude+1):\n",
    "            x = x_0 + horizontal_shifts[direction] * i\n",
    "            y = y_0 + vertical_shifts[direction] * i\n",
    "            steps +=1\n",
    "            if (x,y) not in grid_points_with_stepcount:\n",
    "                grid_points_with_stepcount[(x,y)] = steps\n",
    "    return grid_points_with_stepcount"
   ]
  },
  {
   "cell_type": "code",
   "execution_count": 37,
   "metadata": {},
   "outputs": [],
   "source": [
    "def common_elements_steps(d1, d2):\n",
    "    result = []\n",
    "    for key in d1.keys():\n",
    "        if d2.get(key):\n",
    "            result.append(d1[key]+d2[key])\n",
    "    return result"
   ]
  },
  {
   "cell_type": "code",
   "execution_count": 42,
   "metadata": {},
   "outputs": [],
   "source": [
    "def distance_of_shortest_path(d1, d2):\n",
    "    distances = common_elements_steps(d1, d2)\n",
    "    print(f\"The fewest combined steps the wires must take to reach an intersection is {min(distances)}\")"
   ]
  },
  {
   "cell_type": "code",
   "execution_count": 43,
   "metadata": {},
   "outputs": [
    {
     "name": "stdout",
     "output_type": "stream",
     "text": [
      "The fewest combined steps the wires must take to reach an intersection is 48054\n"
     ]
    }
   ],
   "source": [
    "distance_of_shortest_path(find_gridpoints_with_stepcount(wire_1), find_gridpoints_with_stepcount(wire_2))"
   ]
  }
 ],
 "metadata": {
  "kernelspec": {
   "display_name": "Python 3",
   "language": "python",
   "name": "python3"
  },
  "language_info": {
   "codemirror_mode": {
    "name": "ipython",
    "version": 3
   },
   "file_extension": ".py",
   "mimetype": "text/x-python",
   "name": "python",
   "nbconvert_exporter": "python",
   "pygments_lexer": "ipython3",
   "version": "3.7.2"
  }
 },
 "nbformat": 4,
 "nbformat_minor": 2
}
