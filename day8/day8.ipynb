{
 "cells": [
  {
   "cell_type": "markdown",
   "metadata": {},
   "source": [
    "# Day 8: Space Image Format\n",
    "\n",
    "## Part One\n",
    "\n",
    "The Elves' spirits are lifted when they realize you have an opportunity to reboot one of their Mars rovers, and so they are curious if you would spend a brief sojourn on Mars. You land your ship near the rover.\n",
    "\n",
    "When you reach the rover, you discover that it's already in the process of rebooting! It's just waiting for someone to enter a BIOS password. The Elf responsible for the rover takes a picture of the password (your puzzle input) and sends it to you via the Digital Sending Network.\n",
    "\n",
    "Unfortunately, images sent via the Digital Sending Network aren't encoded with any normal encoding; instead, they're encoded in a special Space Image Format. None of the Elves seem to remember why this is the case. They send you the instructions to decode it.\n",
    "\n",
    "Images are sent as a series of digits that each represent the color of a single pixel. The digits fill each row of the image left-to-right, then move downward to the next row, filling rows top-to-bottom until every pixel of the image is filled.\n",
    "\n",
    "Each image actually consists of a series of identically-sized layers that are filled in this way. So, the first digit corresponds to the top-left pixel of the first layer, the second digit corresponds to the pixel to the right of that on the same layer, and so on until the last digit, which corresponds to the bottom-right pixel of the last layer.\n",
    "\n",
    "For example, given an image 3 pixels wide and 2 pixels tall, the image data 123456789012 corresponds to the following image layers:\n",
    "\n",
    "Layer 1: $\\begin{bmatrix}1 & 2 & 3\\\\4 & 5 & 6\\end{bmatrix}$\n",
    "\n",
    "Layer 2: $\\begin{bmatrix}7 & 8 & 9 \\\\0 & 1 & 2\\end{bmatrix}$\n",
    "         \n",
    "The image you received is 25 pixels wide and 6 pixels tall.\n",
    "\n",
    "To make sure the image wasn't corrupted during transmission, the Elves would like you to find the layer that contains the fewest 0 digits. **On that layer, what is the number of 1 digits multiplied by the number of 2 digits?**"
   ]
  },
  {
   "cell_type": "code",
   "execution_count": 64,
   "metadata": {},
   "outputs": [],
   "source": [
    "image = list(map(int, open('input.txt', 'r').read()))"
   ]
  },
  {
   "cell_type": "code",
   "execution_count": 65,
   "metadata": {},
   "outputs": [],
   "source": [
    "layers = []\n",
    "for i in range(int(len(image)/150)):\n",
    "    layers.append(image[150* i:150*(i+1)])"
   ]
  },
  {
   "cell_type": "code",
   "execution_count": 66,
   "metadata": {},
   "outputs": [],
   "source": [
    "def no_of_zeros(layers):\n",
    "    zero_counts = {}\n",
    "    i = -1\n",
    "    for layer in layers:\n",
    "        i+=1\n",
    "        count = 0\n",
    "        for number in layer:\n",
    "            if number == 0:\n",
    "                count +=1\n",
    "        zero_counts[i] = count\n",
    "    print(zero_counts)"
   ]
  },
  {
   "cell_type": "code",
   "execution_count": 67,
   "metadata": {},
   "outputs": [
    {
     "name": "stdout",
     "output_type": "stream",
     "text": [
      "{0: 16, 1: 10, 2: 13, 3: 10, 4: 11, 5: 14, 6: 11, 7: 12, 8: 12, 9: 13, 10: 11, 11: 7, 12: 8, 13: 14, 14: 17, 15: 19, 16: 14, 17: 16, 18: 11, 19: 24, 20: 12, 21: 16, 22: 18, 23: 18, 24: 15, 25: 24, 26: 13, 27: 21, 28: 16, 29: 18, 30: 16, 31: 17, 32: 18, 33: 16, 34: 24, 35: 24, 36: 20, 37: 17, 38: 21, 39: 19, 40: 24, 41: 19, 42: 27, 43: 20, 44: 24, 45: 26, 46: 26, 47: 17, 48: 19, 49: 22, 50: 20, 51: 19, 52: 24, 53: 22, 54: 28, 55: 31, 56: 26, 57: 27, 58: 31, 59: 23, 60: 35, 61: 31, 62: 23, 63: 38, 64: 29, 65: 26, 66: 26, 67: 28, 68: 32, 69: 25, 70: 34, 71: 33, 72: 32, 73: 41, 74: 27, 75: 34, 76: 28, 77: 36, 78: 38, 79: 34, 80: 34, 81: 34, 82: 38, 83: 32, 84: 31, 85: 37, 86: 35, 87: 33, 88: 39, 89: 35, 90: 35, 91: 33, 92: 38, 93: 40, 94: 45, 95: 38, 96: 53, 97: 41, 98: 43, 99: 53}\n"
     ]
    }
   ],
   "source": [
    "no_of_zeros(layers)"
   ]
  },
  {
   "cell_type": "code",
   "execution_count": 85,
   "metadata": {},
   "outputs": [
    {
     "name": "stdout",
     "output_type": "stream",
     "text": [
      "The index of the layer with the fewest zeros is 11\n"
     ]
    }
   ],
   "source": [
    "fewest_zeros_index = min(zero_counts, key=zero_counts.get)\n",
    "print(f\"The index of the layer with the fewest zeros is {fewest_zeros}\")"
   ]
  },
  {
   "cell_type": "code",
   "execution_count": 88,
   "metadata": {},
   "outputs": [
    {
     "name": "stdout",
     "output_type": "stream",
     "text": [
      "The number of 1 digits multiplied by the number of 2 digits of the layer of interest is 1806.\n"
     ]
    }
   ],
   "source": [
    "total = 0\n",
    "ones = 0\n",
    "twos = 0\n",
    "for number in layers[fewest_zeros_index]:\n",
    "    if number == 1:\n",
    "        ones +=1\n",
    "    elif number ==2:\n",
    "        twos +=1\n",
    "total = ones * twos\n",
    "print(f\"The number of 1 digits multiplied by the number of 2 digits of the layer of interest is {total}.\")"
   ]
  },
  {
   "cell_type": "markdown",
   "metadata": {},
   "source": [
    "## Part Two:\n",
    "\n",
    "Now you're ready to decode the image. The image is rendered by stacking the layers and aligning the pixels with the same positions in each layer. The digits indicate the color of the corresponding pixel: 0 is black, 1 is white, and 2 is transparent.\n",
    "\n",
    "The layers are rendered with the first layer in front and the last layer in back. So, if a given position has a transparent pixel in the first and second layers, a black pixel in the third layer, and a white pixel in the fourth layer, the final image would have a black pixel at that position.\n",
    "\n",
    "For example, given an image 2 pixels wide and 2 pixels tall, the image data 0222112222120000 corresponds to the following image layers:\n",
    "\n",
    "\n",
    "Layer 1: $\\begin{bmatrix}0 & 2\\\\2 & 2\\end{bmatrix}$\n",
    "\n",
    "Layer 2: $\\begin{bmatrix}1 & 1\\\\2 & 2\\end{bmatrix}$\n",
    "\n",
    "\n",
    "Layer 3: $\\begin{bmatrix}2 & 2\\\\1 & 2\\end{bmatrix}$ \n",
    "\n",
    "Layer 4: $\\begin{bmatrix}0 & 0\\\\0 & 0\\end{bmatrix}$\n",
    "\n",
    "\n",
    "Then, the full image can be found by determining the top visible pixel in each position:\n",
    "\n",
    "The top-left pixel is black because the top layer is 0.\n",
    "The top-right pixel is white because the top layer is 2 (transparent), but the second layer is 1.\n",
    "The bottom-left pixel is white because the top two layers are 2, but the third layer is 1.\n",
    "The bottom-right pixel is black because the only visible pixel in that position is 0 (from layer 4).\n",
    "So, the final image looks like this: $\\begin{bmatrix}0 & 1\\\\1 & 0\\end{bmatrix}$\n",
    "\n",
    "\n",
    "**What message is produced after decoding your image?**"
   ]
  },
  {
   "cell_type": "code",
   "execution_count": 73,
   "metadata": {},
   "outputs": [
    {
     "name": "stdout",
     "output_type": "stream",
     "text": [
      "[1, 1, 2, 1, 0, 2, 1, 2, 1, 0, 0, 1, 1, 1, 0, 1, 1, 1, 2, 1, 1, 1, 0, 1, 2, 0, 0, 1, 0, 0, 1, 0, 1, 1, 0, 0, 0, 2, 1, 2, 2, 1, 2, 2, 0, 1, 0, 0, 1, 1, 2, 0, 1, 1, 0, 1, 2, 1, 2, 2, 2, 1, 0, 0, 0, 1, 1, 2, 1, 2, 0, 0, 2, 1, 0, 1, 0, 0, 2, 2, 1, 0, 1, 2, 0, 2, 2, 0, 2, 1, 1, 2, 0, 1, 2, 2, 2, 0, 1, 1, 0, 1, 2, 0, 1, 2, 0, 0, 0, 1, 1, 0, 1, 1, 1, 0, 2, 1, 0, 2, 0, 0, 0, 1, 0, 1, 1, 0, 1, 0, 1, 0, 0, 1, 2, 1, 0, 1, 0, 2, 1, 2, 0, 0, 2, 1, 1, 0, 1, 0]\n"
     ]
    }
   ],
   "source": [
    "image = layers[-1]\n",
    "print(image)"
   ]
  },
  {
   "cell_type": "code",
   "execution_count": 80,
   "metadata": {},
   "outputs": [
    {
     "name": "stdout",
     "output_type": "stream",
     "text": [
      "[[0, 0, 1, 1, 0, 0, 1, 1, 0, 0, 1, 1, 1, 1, 0, 1, 1, 1, 0, 0, 0, 1, 1, 0, 0], [0, 0, 0, 1, 0, 1, 0, 0, 1, 0, 1, 0, 0, 0, 0, 1, 0, 0, 1, 0, 1, 0, 0, 1, 0], [0, 0, 0, 1, 0, 1, 0, 0, 1, 0, 1, 1, 1, 0, 0, 1, 0, 0, 1, 0, 1, 0, 0, 1, 0], [0, 0, 0, 1, 0, 1, 1, 1, 1, 0, 1, 0, 0, 0, 0, 1, 1, 1, 0, 0, 1, 1, 1, 1, 0], [1, 0, 0, 1, 0, 1, 0, 0, 1, 0, 1, 0, 0, 0, 0, 1, 0, 1, 0, 0, 1, 0, 0, 1, 0], [0, 1, 1, 0, 0, 1, 0, 0, 1, 0, 1, 0, 0, 0, 0, 1, 0, 0, 1, 0, 1, 0, 0, 1, 0]]\n"
     ]
    }
   ],
   "source": [
    "image_list = layers[-1]\n",
    "for layer in reversed(layers):\n",
    "    for i in range(len(layer)):\n",
    "        if layer[i] == 0:\n",
    "            image_list[i] = 0\n",
    "        elif layer[i] == 1:\n",
    "            image_list[i] = 1\n",
    "\n",
    "image = []\n",
    "for i in range(int(len(image_list)/25)):\n",
    "    image.append(image_list[25* i:25*(i+1)])\n",
    "\n",
    "print(image)\n"
   ]
  },
  {
   "cell_type": "code",
   "execution_count": 82,
   "metadata": {},
   "outputs": [
    {
     "data": {
      "image/png": "[encoded data removed]",
      "text/plain": [
       "<Figure size 432x288 with 1 Axes>"
      ]
     },
     "metadata": {
      "needs_background": "light"
     },
     "output_type": "display_data"
    }
   ],
   "source": [
    "%matplotlib inline\n",
    "import matplotlib.pyplot as plt\n",
    "plt.imshow(image)\n",
    "plt.show()"
   ]
  }
 ],
 "metadata": {
  "kernelspec": {
   "display_name": "Python 3",
   "language": "python",
   "name": "python3"
  },
  "language_info": {
   "codemirror_mode": {
    "name": "ipython",
    "version": 3
   },
   "file_extension": ".py",
   "mimetype": "text/x-python",
   "name": "python",
   "nbconvert_exporter": "python",
   "pygments_lexer": "ipython3",
   "version": "3.7.2"
  }
 },
 "nbformat": 4,
 "nbformat_minor": 2
}
