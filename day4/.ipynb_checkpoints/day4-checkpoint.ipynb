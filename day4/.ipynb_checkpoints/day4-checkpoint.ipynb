{
 "cells": [
  {
   "cell_type": "markdown",
   "metadata": {},
   "source": [
    "# Day 4: Secure Container\n",
    "\n",
    "You arrive at the Venus fuel depot only to discover it's protected by a password. The Elves had written the password on a sticky note, but someone threw it out.\n",
    "\n",
    "However, they do remember a few key facts about the password:\n",
    "\n",
    "- It is a six-digit number.\n",
    "\n",
    "- The value is within the range given in your puzzle input.\n",
    "\n",
    "- Two adjacent digits are the same (like 22 in 122345).\n",
    "\n",
    "- Going from left to right, the digits never decrease; they only ever increase or stay the same (like 111123 or 135679).\n",
    "\n",
    "- Other than the range rule, the following are true:\n",
    "\n",
    "    - 111111 meets these criteria (double 11, never decreases).\n",
    "    - 223450 does not meet these criteria (decreasing pair of digits 50).\n",
    "    - 123789 does not meet these criteria (no double).\n",
    "    \n",
    "The range of passwords is between **138241** and **674034**.\n",
    "\n",
    "### How many different passwords within the range given in your puzzle input meet these criteria?"
   ]
  },
  {
   "cell_type": "code",
   "execution_count": 9,
   "metadata": {},
   "outputs": [],
   "source": [
    "def number_of_passwords_part1(low=138241, high=674034):\n",
    "    passwords = []\n",
    "    for i in range(low, high+1):\n",
    "        number = str(i)\n",
    "        sorted_number = \"\".join(sorted(str(number)))\n",
    "        if number != sorted_number:\n",
    "            continue\n",
    "        else:\n",
    "            for j in range(len(number)-1):\n",
    "                if number[j] == number[j+1]:\n",
    "                    passwords.append(number)\n",
    "                    break\n",
    "                else:\n",
    "                    continue\n",
    "    print(f\"The number of passwords that meet the requirements of part 1 is {len(passwords)}\")\n",
    "    "
   ]
  },
  {
   "cell_type": "code",
   "execution_count": 10,
   "metadata": {},
   "outputs": [
    {
     "name": "stdout",
     "output_type": "stream",
     "text": [
      "The number of passwords that meet the requirements of part 1 is 1890\n"
     ]
    }
   ],
   "source": [
    "number_of_passwords_part1()"
   ]
  },
  {
   "cell_type": "markdown",
   "metadata": {},
   "source": [
    "## Part Two:\n",
    "\n",
    "An Elf just remembered one more important detail: the two adjacent matching digits are not part of a larger group of matching digits.\n",
    "\n",
    "Given this additional criterion, but still ignoring the range rule, the following are now true:\n",
    "\n",
    "- 112233 meets these criteria because the digits never decrease and all repeated digits are exactly two digits long.\n",
    "\n",
    "- 123444 no longer meets the criteria (the repeated 44 is part of a larger group of 444).\n",
    "\n",
    "- 111122 meets the criteria (even though 1 is repeated more than twice, it still contains a double 22).\n",
    "\n",
    "### How many different passwords within the range given in your puzzle input meet all of the criteria?"
   ]
  },
  {
   "cell_type": "code",
   "execution_count": 15,
   "metadata": {},
   "outputs": [],
   "source": [
    "def number_of_passwords_part2(low=138241, high=674034):\n",
    "    all_passwords = []\n",
    "    correct_passwords = []\n",
    "    for i in range(low, high+1):\n",
    "        number = str(i)\n",
    "        sorted_number = \"\".join(sorted(str(number)))\n",
    "        if number != sorted_number:\n",
    "            continue\n",
    "        else:\n",
    "            for j in range(len(number)-1):\n",
    "                if number[j] == number[j+1]:\n",
    "                    all_passwords.append(number)\n",
    "                    break\n",
    "                else:\n",
    "                    continue\n",
    "    for number in all_passwords:\n",
    "        dict_number = {}\n",
    "        for i in number: \n",
    "            if i in dict_number: \n",
    "                dict_number[i] += 1\n",
    "            else: \n",
    "                dict_number[i] = 1\n",
    "        if 2 in dict_number.values():\n",
    "            correct_passwords.append(number)\n",
    "    print(f\"The number of passwords that meet the requirements of part 2 is {len(correct_passwords)}\")"
   ]
  },
  {
   "cell_type": "code",
   "execution_count": 16,
   "metadata": {},
   "outputs": [
    {
     "name": "stdout",
     "output_type": "stream",
     "text": [
      "The number of passwords that meet the requirements of part 2 is 1277\n"
     ]
    }
   ],
   "source": [
    "number_of_passwords_part2()"
   ]
  }
 ],
 "metadata": {
  "kernelspec": {
   "display_name": "Python 3",
   "language": "python",
   "name": "python3"
  },
  "language_info": {
   "codemirror_mode": {
    "name": "ipython",
    "version": 3
   },
   "file_extension": ".py",
   "mimetype": "text/x-python",
   "name": "python",
   "nbconvert_exporter": "python",
   "pygments_lexer": "ipython3",
   "version": "3.7.2"
  }
 },
 "nbformat": 4,
 "nbformat_minor": 2
}
