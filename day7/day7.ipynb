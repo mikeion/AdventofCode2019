{
 "cells": [
  {
   "cell_type": "markdown",
   "metadata": {},
   "source": [
    "# Day 7: Amplification Circuit\n",
    "\n",
    "## Part One\n",
    "\n",
    "<pre>\n",
    "Based on the navigational maps, you're going to need to send more power to your ship's thrusters to reach Santa in time. To do this, you'll need to configure a series of amplifiers already installed on the ship.\n",
    "\n",
    "There are five amplifiers connected in series; each one receives an input signal and produces an output signal. They are connected such that the first amplifier's output leads to the second amplifier's input, the second amplifier's output leads to the third amplifier's input, and so on. The first amplifier's input value is 0, and the last amplifier's output leads to your ship's thrusters.\n",
    "</pre>\n",
    "\n",
    "<pre>\n",
    "    O-------O  O-------O  O-------O  O-------O  O-------O\n",
    "0 ->| Amp A |->| Amp B |->| Amp C |->| Amp D |->| Amp E |-> (to thrusters)\n",
    "    O-------O  O-------O  O-------O  O-------O  O-------O\n",
    "</pre>\n",
    "\n",
    "<pre>\n",
    "The Elves have sent you some Amplifier Controller Software (your puzzle input), a program that should run on your existing Intcode computer. Each amplifier will need to run a copy of the program.\n",
    "\n",
    "When a copy of the program starts running on an amplifier, it will first use an input instruction to ask the amplifier for its current phase setting (an integer from 0 to 4). Each phase setting is used exactly once, but the Elves can't remember which amplifier needs which phase setting.\n",
    "\n",
    "The program will then call another input instruction to get the amplifier's input signal, compute the correct output signal, and supply it back to the amplifier with an output instruction. (If the amplifier has not yet received an input signal, it waits until one arrives.)\n",
    "\n",
    "Your job is to find the largest output signal that can be sent to the thrusters by trying every possible combination of phase settings on the amplifiers. Make sure that memory is not shared or reused between copies of the program.\n",
    "\n",
    "For example, suppose you want to try the phase setting sequence 3,1,2,4,0, which would mean setting amplifier A to phase setting 3, amplifier B to setting 1, C to 2, D to 4, and E to 0. Then, you could determine the output signal that gets sent from amplifier E to the thrusters with the following steps:\n",
    "\n",
    "Start the copy of the amplifier controller software that will run on amplifier A. At its first input instruction, provide it the amplifier's phase setting, 3. At its second input instruction, provide it the input signal, 0. After some calculations, it will use an output instruction to indicate the amplifier's output signal.\n",
    "Start the software for amplifier B. Provide it the phase setting (1) and then whatever output signal was produced from amplifier A. It will then produce a new output signal destined for amplifier C.\n",
    "Start the software for amplifier C, provide the phase setting (2) and the value from amplifier B, then collect its output signal.\n",
    "Run amplifier D's software, provide the phase setting (4) and input value, and collect its output signal.\n",
    "Run amplifier E's software, provide the phase setting (0) and input value, and collect its output signal.\n",
    "The final output signal from amplifier E would be sent to the thrusters. However, this phase setting sequence may not have been the best one; another sequence might have sent a higher signal to the thrusters.\n",
    "\n",
    "Here are some example programs:\n",
    "\n",
    "Max thruster signal 43210 (from phase setting sequence 4,3,2,1,0):\n",
    "\n",
    "3,15,3,16,1002,16,10,16,1,16,15,15,4,15,99,0,0\n",
    "Max thruster signal 54321 (from phase setting sequence 0,1,2,3,4):\n",
    "\n",
    "3,23,3,24,1002,24,10,24,1002,23,-1,23,\n",
    "101,5,23,23,1,24,23,23,4,23,99,0,0\n",
    "Max thruster signal 65210 (from phase setting sequence 1,0,4,3,2):\n",
    "\n",
    "3,31,3,32,1002,32,10,32,1001,31,-2,31,1007,31,0,33,\n",
    "1002,33,7,33,1,33,31,31,1,32,31,31,4,31,99,0,0,0\n",
    "\n",
    "</pre>\n",
    "\n",
    "Try every combination of phase settings on the amplifiers. **What is the highest signal that can be sent to the thrusters?**\n",
    "\n",
    "To begin, get your puzzle input.\n"
   ]
  },
  {
   "cell_type": "code",
   "execution_count": 14,
   "metadata": {},
   "outputs": [],
   "source": [
    "# Import the same code from Day 5 to modify\n",
    "\n",
    "def parse_long_direction(direction):\n",
    "    shortopcode = str(direction).zfill(5)\n",
    "    param_1_mode, param_2_mode, param_3_mode, opcode = int(shortopcode[2]), int(shortopcode[1]), int(shortopcode[0]), int(shortopcode[-2:])\n",
    "    direction_list = [opcode, param_1_mode, param_2_mode, param_3_mode]\n",
    "    return direction_list"
   ]
  },
  {
   "cell_type": "code",
   "execution_count": 135,
   "metadata": {},
   "outputs": [],
   "source": [
    "def diagnosis_code(program, phase, output, step=0):\n",
    "    opcode_index = 0\n",
    "    first_time = 0\n",
    "    while True:\n",
    "        opcode = program[opcode_index]\n",
    "        direction = parse_long_direction(opcode)[0]\n",
    "        elements = []\n",
    "        if direction in {1, 2, 7, 8}:\n",
    "            elements_length = 3\n",
    "        elif direction in {3, 4}:\n",
    "            elements_length = 1\n",
    "        elif direction in {5,6}:\n",
    "            elements_length = 2\n",
    "        for i in range(1,elements_length+1):\n",
    "            if parse_long_direction(opcode)[i] == 0:\n",
    "                elements.append(program[opcode_index + i])\n",
    "            else:\n",
    "                elements.append(opcode_index + i)\n",
    "        if direction == 99:\n",
    "                #phase = phases_1[step]\n",
    "                break   \n",
    "        elif direction == 1:\n",
    "            program[elements[2]] = program[elements[0]] + program[elements[1]]\n",
    "            opcode_index +=4\n",
    "        elif direction == 2:\n",
    "            program[elements[2]] = program[elements[0]] * program[elements[1]]\n",
    "            opcode_index +=4\n",
    "        elif direction == 3:\n",
    "            if first_time == 0:\n",
    "                first_time +=1\n",
    "                program[elements[0]] = phase\n",
    "            else:\n",
    "                program[elements[0]] = output\n",
    "            opcode_index +=2\n",
    "        elif direction == 4:\n",
    "            new_input = program[elements[0]]\n",
    "            opcode_index +=2\n",
    "        elif direction == 5:\n",
    "            if program[elements[0]] != 0:\n",
    "                opcode_index = program[elements[1]]\n",
    "            else:\n",
    "                opcode_index +=3\n",
    "        elif direction == 6:\n",
    "            if program[elements[0]] == 0:\n",
    "                opcode_index = program[elements[1]]\n",
    "            else:\n",
    "                opcode_index +=3\n",
    "        elif direction == 7:\n",
    "            if program[elements[0]] < program[elements[1]]:\n",
    "                program[elements[2]] = 1\n",
    "                opcode_index +=4\n",
    "            else:\n",
    "                program[elements[2]] = 0\n",
    "                opcode_index +=4\n",
    "        elif direction == 8:\n",
    "            if program[elements[0]] == program[elements[1]]:\n",
    "                program[elements[2]] = 1\n",
    "                opcode_index +=4\n",
    "            else:\n",
    "                program[elements[2]] = 0\n",
    "                opcode_index +=4\n",
    "    #program = [3,15,3,16,1002,16,10,16,1,16,15,15,4,15,99,0,0]\n",
    "    #diagnosis_code(program, phase, output, step)\n",
    "    #list_of_inputs.append(new_input)\n",
    "    return new_input"
   ]
  },
  {
   "cell_type": "code",
   "execution_count": 136,
   "metadata": {},
   "outputs": [],
   "source": [
    "def pass_through_amplifiers(program, phase, step=0):\n",
    "    outputs_list = [1]\n",
    "    for step in range(5):\n",
    "        output = outputs_list[step]\n",
    "        phase = phases_1[step]\n",
    "        outputs_list.append(diagnosis_code(program, phase, output, step))\n",
    "    print(outputs_list[-1])"
   ]
  },
  {
   "cell_type": "code",
   "execution_count": 137,
   "metadata": {},
   "outputs": [],
   "source": [
    "test_intcode_1 = [3,15,3,16,1002,16,10,16,1,16,15,15,4,15,99,0,0]\n",
    "# test_intcode_2 = [3,23,3,24,1002,24,10,24,1002,23,-1,23,101,5,23,23,1,24,23,23,4,23,99,0,0]"
   ]
  },
  {
   "cell_type": "code",
   "execution_count": 138,
   "metadata": {},
   "outputs": [
    {
     "name": "stdout",
     "output_type": "stream",
     "text": [
      "143210\n"
     ]
    }
   ],
   "source": [
    "phases_1 = [4,3,2,1,0]\n",
    "#phases_2 = [0,1,2,3,4]\n",
    "pass_through_amplifiers(test_intcode_1, 4, 0)"
   ]
  },
  {
   "cell_type": "code",
   "execution_count": null,
   "metadata": {},
   "outputs": [],
   "source": []
  }
 ],
 "metadata": {
  "kernelspec": {
   "display_name": "Python 3",
   "language": "python",
   "name": "python3"
  },
  "language_info": {
   "codemirror_mode": {
    "name": "ipython",
    "version": 3
   },
   "file_extension": ".py",
   "mimetype": "text/x-python",
   "name": "python",
   "nbconvert_exporter": "python",
   "pygments_lexer": "ipython3",
   "version": "3.7.2"
  }
 },
 "nbformat": 4,
 "nbformat_minor": 2
}
