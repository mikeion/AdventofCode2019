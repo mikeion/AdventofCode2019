{
 "cells": [
  {
   "cell_type": "markdown",
   "metadata": {},
   "source": [
    "# Day 7: Amplification Circuit\n",
    "\n",
    "## Part One\n",
    "\n",
    "<pre>\n",
    "Based on the navigational maps, you're going to need to send more power to your ship's thrusters to reach Santa in time. To do this, you'll need to configure a series of amplifiers already installed on the ship.\n",
    "\n",
    "There are five amplifiers connected in series; each one receives an input signal and produces an output signal. They are connected such that the first amplifier's output leads to the second amplifier's input, the second amplifier's output leads to the third amplifier's input, and so on. The first amplifier's input value is 0, and the last amplifier's output leads to your ship's thrusters.\n",
    "</pre>\n",
    "\n",
    "<pre>\n",
    "    O-------O  O-------O  O-------O  O-------O  O-------O\n",
    "0 ->| Amp A |->| Amp B |->| Amp C |->| Amp D |->| Amp E |-> (to thrusters)\n",
    "    O-------O  O-------O  O-------O  O-------O  O-------O\n",
    "</pre>\n",
    "\n",
    "<pre>\n",
    "The Elves have sent you some Amplifier Controller Software (your puzzle input), a program that should run on your existing Intcode computer. Each amplifier will need to run a copy of the program.\n",
    "\n",
    "When a copy of the program starts running on an amplifier, it will first use an input instruction to ask the amplifier for its current phase setting (an integer from 0 to 4). Each phase setting is used exactly once, but the Elves can't remember which amplifier needs which phase setting.\n",
    "\n",
    "The program will then call another input instruction to get the amplifier's input signal, compute the correct output signal, and supply it back to the amplifier with an output instruction. (If the amplifier has not yet received an input signal, it waits until one arrives.)\n",
    "\n",
    "Your job is to find the largest output signal that can be sent to the thrusters by trying every possible combination of phase settings on the amplifiers. Make sure that memory is not shared or reused between copies of the program.\n",
    "\n",
    "For example, suppose you want to try the phase setting sequence 3,1,2,4,0, which would mean setting amplifier A to phase setting 3, amplifier B to setting 1, C to 2, D to 4, and E to 0. Then, you could determine the output signal that gets sent from amplifier E to the thrusters with the following steps:\n",
    "\n",
    "Start the copy of the amplifier controller software that will run on amplifier A. At its first input instruction, provide it the amplifier's phase setting, 3. At its second input instruction, provide it the input signal, 0. After some calculations, it will use an output instruction to indicate the amplifier's output signal.\n",
    "Start the software for amplifier B. Provide it the phase setting (1) and then whatever output signal was produced from amplifier A. It will then produce a new output signal destined for amplifier C.\n",
    "Start the software for amplifier C, provide the phase setting (2) and the value from amplifier B, then collect its output signal.\n",
    "Run amplifier D's software, provide the phase setting (4) and input value, and collect its output signal.\n",
    "Run amplifier E's software, provide the phase setting (0) and input value, and collect its output signal.\n",
    "The final output signal from amplifier E would be sent to the thrusters. However, this phase setting sequence may not have been the best one; another sequence might have sent a higher signal to the thrusters.\n",
    "\n",
    "Here are some example programs:\n",
    "\n",
    "Max thruster signal 43210 (from phase setting sequence 4,3,2,1,0):\n",
    "\n",
    "3,15,3,16,1002,16,10,16,1,16,15,15,4,15,99,0,0\n",
    "Max thruster signal 54321 (from phase setting sequence 0,1,2,3,4):\n",
    "\n",
    "3,23,3,24,1002,24,10,24,1002,23,-1,23,\n",
    "101,5,23,23,1,24,23,23,4,23,99,0,0\n",
    "Max thruster signal 65210 (from phase setting sequence 1,0,4,3,2):\n",
    "\n",
    "3,31,3,32,1002,32,10,32,1001,31,-2,31,1007,31,0,33,\n",
    "1002,33,7,33,1,33,31,31,1,32,31,31,4,31,99,0,0,0\n",
    "\n",
    "</pre>\n",
    "\n",
    "Try every combination of phase settings on the amplifiers. **What is the highest signal that can be sent to the thrusters?**\n",
    "\n",
    "To begin, get your puzzle input.\n"
   ]
  },
  {
   "cell_type": "code",
   "execution_count": 91,
   "metadata": {},
   "outputs": [],
   "source": [
    "intcode = list(map(int, open('input.txt', 'r').read().split(',')))"
   ]
  },
  {
   "cell_type": "code",
   "execution_count": 55,
   "metadata": {},
   "outputs": [],
   "source": [
    "# Import the same code from Day 5 to modify\n",
    "\n",
    "def parse_long_direction(direction):\n",
    "    shortopcode = str(direction).zfill(5)\n",
    "    param_1_mode, param_2_mode, param_3_mode, opcode = int(shortopcode[2]), int(shortopcode[1]), int(shortopcode[0]), int(shortopcode[-2:])\n",
    "    direction_list = [opcode, param_1_mode, param_2_mode, param_3_mode]\n",
    "    return direction_list"
   ]
  },
  {
   "cell_type": "code",
   "execution_count": 56,
   "metadata": {},
   "outputs": [],
   "source": [
    "from itertools import permutations \n",
    "l = list(permutations(range(0, 5)))\n",
    "list_of_phases_part1 = [list(i) for i in l]"
   ]
  },
  {
   "cell_type": "code",
   "execution_count": 70,
   "metadata": {},
   "outputs": [],
   "source": [
    "def diagnosis_code(program, phase, output=1):\n",
    "    opcode_index = 0\n",
    "    first_time = 0\n",
    "    while True:\n",
    "        opcode = program[opcode_index]\n",
    "        direction = parse_long_direction(opcode)[0]\n",
    "        elements = []\n",
    "        if direction in {1, 2, 7, 8}:\n",
    "            elements_length = 3\n",
    "        elif direction in {3, 4}:\n",
    "            elements_length = 1\n",
    "        elif direction in {5,6}:\n",
    "            elements_length = 2\n",
    "        for i in range(1,elements_length+1):\n",
    "            if parse_long_direction(opcode)[i] == 0:\n",
    "                elements.append(program[opcode_index + i])\n",
    "            else:\n",
    "                elements.append(opcode_index + i)\n",
    "        if direction == 99:\n",
    "            break   \n",
    "        elif direction == 1:\n",
    "            program[elements[2]] = program[elements[0]] + program[elements[1]]\n",
    "            opcode_index +=4\n",
    "        elif direction == 2:\n",
    "            program[elements[2]] = program[elements[0]] * program[elements[1]]\n",
    "            opcode_index +=4\n",
    "        elif direction == 3:\n",
    "            if first_time == 0:\n",
    "                first_time +=1\n",
    "                program[elements[0]] = phase\n",
    "            else:\n",
    "                program[elements[0]] = output\n",
    "            opcode_index +=2\n",
    "        elif direction == 4:\n",
    "            output = program[elements[0]]\n",
    "            opcode_index +=2\n",
    "        elif direction == 5:\n",
    "            if program[elements[0]] != 0:\n",
    "                opcode_index = program[elements[1]]\n",
    "            else:\n",
    "                opcode_index +=3\n",
    "        elif direction == 6:\n",
    "            if program[elements[0]] == 0:\n",
    "                opcode_index = program[elements[1]]\n",
    "            else:\n",
    "                opcode_index +=3\n",
    "        elif direction == 7:\n",
    "            if program[elements[0]] < program[elements[1]]:\n",
    "                program[elements[2]] = 1\n",
    "                opcode_index +=4\n",
    "            else:\n",
    "                program[elements[2]] = 0\n",
    "                opcode_index +=4\n",
    "        elif direction == 8:\n",
    "            if program[elements[0]] == program[elements[1]]:\n",
    "                program[elements[2]] = 1\n",
    "                opcode_index +=4\n",
    "            else:\n",
    "                program[elements[2]] = 0\n",
    "                opcode_index +=4\n",
    "    return output"
   ]
  },
  {
   "cell_type": "code",
   "execution_count": 71,
   "metadata": {},
   "outputs": [],
   "source": [
    "def pass_through_amplifiers_part1(program):\n",
    "    biggest_output = 0\n",
    "    for phase_set in list_of_phases_part1:\n",
    "        outputs_list = [0]\n",
    "        for step in range(5):\n",
    "            program_copy = program.copy()\n",
    "            output = outputs_list[step]\n",
    "            phase = phase_set[step]\n",
    "            outputs_list.append(diagnosis_code(program_copy, phase, output))\n",
    "        if outputs_list[-1] > biggest_output:\n",
    "            biggest_output = outputs_list[-1]\n",
    "    print(biggest_output)"
   ]
  },
  {
   "cell_type": "code",
   "execution_count": 72,
   "metadata": {},
   "outputs": [
    {
     "name": "stdout",
     "output_type": "stream",
     "text": [
      "38834\n"
     ]
    }
   ],
   "source": [
    "pass_through_amplifiers_part1(intcode)"
   ]
  },
  {
   "cell_type": "markdown",
   "metadata": {},
   "source": [
    "## Part Two:\n",
    "\n",
    "It's no good - in this configuration, the amplifiers can't generate a large enough output signal to produce the thrust you'll need. The Elves quickly talk you through rewiring the amplifiers into a feedback loop:\n",
    "<pre>\n",
    "      O-------O  O-------O  O-------O  O-------O  O-------O\n",
    "0 -+->| Amp A |->| Amp B |->| Amp C |->| Amp D |->| Amp E |-.\n",
    "   |  O-------O  O-------O  O-------O  O-------O  O-------O |\n",
    "   |                                                        |\n",
    "   '--------------------------------------------------------+\n",
    "                                                            |\n",
    "                                                            v\n",
    "                                                     (to thrusters)\n",
    "</pre>\n",
    "Most of the amplifiers are connected as they were before; amplifier A's output is connected to amplifier B's input, and so on. However, the output from amplifier E is now connected into amplifier A's input. This creates the feedback loop: the signal will be sent through the amplifiers many times.\n",
    "\n",
    "In feedback loop mode, the amplifiers need totally different phase settings: integers from 5 to 9, again each used exactly once. These settings will cause the Amplifier Controller Software to repeatedly take input and produce output many times before halting. Provide each amplifier its phase setting at its first input instruction; all further input/output instructions are for signals.\n",
    "\n",
    "Don't restart the Amplifier Controller Software on any amplifier during this process. Each one should continue receiving and sending signals until it halts.\n",
    "\n",
    "All signals sent or received in this process will be between pairs of amplifiers except the very first signal and the very last signal. To start the process, a 0 signal is sent to amplifier A's input exactly once.\n",
    "\n",
    "Eventually, the software on the amplifiers will halt after they have processed the final loop. When this happens, the last output signal from amplifier E is sent to the thrusters. Your job is to find the largest output signal that can be sent to the thrusters using the new phase settings and feedback loop arrangement.\n",
    "<pre>\n",
    "Here are some example programs:\n",
    "\n",
    "Max thruster signal 139629729 (from phase setting sequence 9,8,7,6,5):\n",
    "\n",
    "3,26,1001,26,-4,26,3,27,1002,27,2,27,1,27,26,\n",
    "27,4,27,1001,28,-1,28,1005,28,6,99,0,0,5\n",
    "Max thruster signal 18216 (from phase setting sequence 9,7,8,5,6):\n",
    "\n",
    "3,52,1001,52,-5,52,3,53,1,52,56,54,1007,54,5,55,1005,55,26,1001,54,\n",
    "-5,54,1105,1,12,1,53,54,53,1008,54,0,55,1001,55,1,55,2,53,55,53,4,\n",
    "53,1001,56,-1,56,1005,56,6,99,0,0,0,0,10\n",
    "\n",
    "</pre>\n",
    "Try every combination of the new phase settings on the amplifier feedback loop. **What is the highest signal that can be sent to the thrusters?**\n",
    "\n",
    "Although it hasn't changed, you can still get your puzzle input."
   ]
  },
  {
   "cell_type": "code",
   "execution_count": 64,
   "metadata": {},
   "outputs": [],
   "source": [
    "from itertools import permutations \n",
    "l = list(permutations(range(5, 10)))\n",
    "list_of_phases_part2 = [list(i) for i in l]"
   ]
  },
  {
   "cell_type": "code",
   "execution_count": 88,
   "metadata": {},
   "outputs": [],
   "source": [
    "def diagnosis_code_part2(program, phase, output, opcode_index, first_time=0):\n",
    "    while True: \n",
    "        opcode = program[opcode_index]\n",
    "        direction = parse_long_direction(opcode)[0]\n",
    "        elements = []\n",
    "        if direction in {1, 2, 7, 8}:\n",
    "            elements_length = 3\n",
    "        elif direction in {3, 4}:\n",
    "            elements_length = 1\n",
    "        elif direction in {5,6}:\n",
    "            elements_length = 2\n",
    "        else:\n",
    "            elements_length = 0\n",
    "        for i in range(1,elements_length+1):\n",
    "            if parse_long_direction(opcode)[i] == 0:\n",
    "                elements.append(program[opcode_index + i])\n",
    "            else:\n",
    "                elements.append(opcode_index + i)\n",
    "        if direction == 99:\n",
    "            return [program, phase, opcode_index, first_time], output, 1\n",
    "        elif direction == 1:\n",
    "            program[elements[2]] = program[elements[0]] + program[elements[1]]\n",
    "            opcode_index +=4\n",
    "        elif direction == 2:\n",
    "            program[elements[2]] = program[elements[0]] * program[elements[1]]\n",
    "            opcode_index +=4\n",
    "        elif direction == 3:\n",
    "            if first_time == 0:\n",
    "                first_time +=1\n",
    "                program[elements[0]] = phase\n",
    "            else:\n",
    "                program[elements[0]] = output\n",
    "            opcode_index +=2\n",
    "        elif direction == 4:\n",
    "            output = program[elements[0]]\n",
    "            opcode_index +=2\n",
    "            return [program, phase, opcode_index, first_time], output, 0\n",
    "        elif direction == 5:\n",
    "            if program[elements[0]] != 0:\n",
    "                opcode_index = program[elements[1]]\n",
    "            else:\n",
    "                opcode_index +=3\n",
    "        elif direction == 6:\n",
    "            if program[elements[0]] == 0:\n",
    "                opcode_index = program[elements[1]]\n",
    "            else:\n",
    "                opcode_index +=3\n",
    "        elif direction == 7:\n",
    "            if program[elements[0]] < program[elements[1]]:\n",
    "                program[elements[2]] = 1\n",
    "                opcode_index +=4\n",
    "            else:\n",
    "                program[elements[2]] = 0\n",
    "                opcode_index +=4\n",
    "        elif direction == 8:\n",
    "            if program[elements[0]] == program[elements[1]]:\n",
    "                program[elements[2]] = 1\n",
    "                opcode_index +=4\n",
    "            else:\n",
    "                program[elements[2]] = 0\n",
    "                opcode_index +=4"
   ]
  },
  {
   "cell_type": "code",
   "execution_count": 112,
   "metadata": {},
   "outputs": [],
   "source": [
    "def pass_through_amplifiers_part2(program):\n",
    "    biggest_output = 0\n",
    "    for phase_set in list_of_phases_part2:\n",
    "        states = [0,0,0,0,0]\n",
    "        output = 0\n",
    "        parameters_of_computers = [[program, phase_set[0], 0, 0],\n",
    "                                   [program, phase_set[1], 0, 0],\n",
    "                                   [program, phase_set[2], 0, 0],\n",
    "                                   [program, phase_set[3], 0, 0], \n",
    "                                   [program, phase_set[4], 0, 0]]\n",
    "        outputs_list = [0]\n",
    "        opcode_index = 0\n",
    "        first_time = 0\n",
    "        while states != [1,1,1,1,1]:\n",
    "            for step in range(5):\n",
    "                phase = phase_set[step]\n",
    "                parameters_of_computers[step], output, states[step] = diagnosis_code_part2(parameters_of_computers[step][0], \n",
    "                                                                                  parameters_of_computers[step][1],\n",
    "                                                                                  output,\n",
    "                                                                                  parameters_of_computers[step][2],\n",
    "                                                                                  parameters_of_computers[step][3])\n",
    "                outputs_list.append(output)\n",
    "            if outputs_list[-1] > biggest_output:\n",
    "                biggest_output = outputs_list[-1]\n",
    "    print(biggest_output)"
   ]
  },
  {
   "cell_type": "code",
   "execution_count": 113,
   "metadata": {},
   "outputs": [
    {
     "name": "stdout",
     "output_type": "stream",
     "text": [
      "69113332\n"
     ]
    }
   ],
   "source": [
    "pass_through_amplifiers_part2(intcode)"
   ]
  },
  {
   "cell_type": "code",
   "execution_count": 109,
   "metadata": {},
   "outputs": [],
   "source": [
    "def pass_through_amplifiers_part2_test2(program):\n",
    "    biggest_output = 0\n",
    "    phase_set = [9,8,7,6,5]\n",
    "    states = [0,0,0,0,0]\n",
    "    output = 0\n",
    "    parameters_of_computers = [[program.copy(), phase_set[0], 0, 0],\n",
    "                               [program.copy(), phase_set[1], 0, 0],\n",
    "                               [program.copy(), phase_set[2], 0, 0],\n",
    "                               [program.copy(), phase_set[3], 0, 0], \n",
    "                               [program.copy(), phase_set[4], 0, 0]]\n",
    "    \n",
    "    opcode_index = 0\n",
    "    first_time = 0\n",
    "    while states != [1,1,1,1,1]:\n",
    "        outputs_list = [0]\n",
    "        for step in range(5):\n",
    "            phase = phase_set[step]\n",
    "            parameters_of_computers[step], output, states[step] = diagnosis_code_part2(parameters_of_computers[step][0], \n",
    "                                                                              parameters_of_computers[step][1],\n",
    "                                                                              output,\n",
    "                                                                              parameters_of_computers[step][2],\n",
    "                                                                              parameters_of_computers[step][3])\n",
    "            outputs_list.append(output)\n",
    "        if outputs_list[-1] > biggest_output:\n",
    "            biggest_output = outputs_list[-1]\n",
    "    print(biggest_output)"
   ]
  },
  {
   "cell_type": "code",
   "execution_count": 110,
   "metadata": {},
   "outputs": [],
   "source": [
    "test_intcode_69 = [3,26,1001,26,-4,26,3,27,1002,27,2,27,1,27,26,\n",
    "27,4,27,1001,28,-1,28,1005,28,6,99,0,0,5]"
   ]
  },
  {
   "cell_type": "code",
   "execution_count": 111,
   "metadata": {},
   "outputs": [
    {
     "name": "stdout",
     "output_type": "stream",
     "text": [
      "139629729\n"
     ]
    }
   ],
   "source": [
    "pass_through_amplifiers_part2_test2(test_intcode_69)"
   ]
  },
  {
   "cell_type": "code",
   "execution_count": null,
   "metadata": {},
   "outputs": [],
   "source": []
  }
 ],
 "metadata": {
  "kernelspec": {
   "display_name": "Python 3",
   "language": "python",
   "name": "python3"
  },
  "language_info": {
   "codemirror_mode": {
    "name": "ipython",
    "version": 3
   },
   "file_extension": ".py",
   "mimetype": "text/x-python",
   "name": "python",
   "nbconvert_exporter": "python",
   "pygments_lexer": "ipython3",
   "version": "3.7.2"
  }
 },
 "nbformat": 4,
 "nbformat_minor": 2
}
