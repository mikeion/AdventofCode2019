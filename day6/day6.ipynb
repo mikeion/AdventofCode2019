{
 "cells": [
  {
   "cell_type": "markdown",
   "metadata": {},
   "source": [
    "# Day 6\n",
    "\n",
    "## Part One:\n",
    "\n",
    "You've landed at the Universal Orbit Map facility on Mercury. Because navigation in space often involves transferring between orbits, the orbit maps here are useful for finding efficient routes between, for example, you and Santa. You download a map of the local orbits (your puzzle input).\n",
    " \n",
    "\n",
    "In the map data, this orbital relationship is written AAA)BBB, which means \"BBB is in orbit around AAA\".\n",
    "\n",
    "Before you use your map data to plot a course, you need to make sure it wasn't corrupted during the download. To verify maps, the Universal Orbit Map facility uses orbit count checksums - the total number of direct orbits (like the one shown above) and indirect orbits.\n",
    "\n",
    "Whenever A orbits B and B orbits C, then A indirectly orbits C. This chain can be any number of objects long: if A orbits B, B orbits C, and C orbits D, then A indirectly orbits D.\n",
    "\n",
    "For example, suppose you have the following map:\n",
    "\n",
    "- COM)B\n",
    "- B)C\n",
    "- C)D\n",
    "- D)E\n",
    "- E)F\n",
    "- B)G\n",
    "- G)H\n",
    "- D)I\n",
    "- E)J\n",
    "- J)K\n",
    "- K)L\n",
    "\n",
    "Visually, the above map of orbits looks like this:\n",
    "<pre>\n",
    "        G - H       J - K - L\n",
    "       /           /\n",
    "COM - B - C - D - E - F\n",
    "               \\\n",
    "                I\n",
    "</pre>\n",
    "In this visual representation, when two objects are connected by a line, the one on the right directly orbits the one on the left.\n",
    "\n",
    "Here, we can count the total number of orbits as follows:\n",
    "\n",
    "- D directly orbits C and indirectly orbits B and COM, a total of 3 orbits.\n",
    "- L directly orbits K and indirectly orbits J, E, D, C, B, and COM, a total of 7 orbits.\n",
    "- COM orbits nothing.\n",
    "- The total number of direct and indirect orbits in this example is 42.\n",
    "\n",
    "**What is the total number of direct and indirect orbits in your map data?**\n",
    "\n",
    "To begin, get your puzzle input."
   ]
  },
  {
   "cell_type": "code",
   "execution_count": 4,
   "metadata": {},
   "outputs": [],
   "source": [
    "orbits = [orbit.split(\")\") for orbit in list(map(str, open('input.txt', 'r').read().split('\\n')))]\n",
    "orbits = dict([(j, i) for (i,j) in orbits])"
   ]
  },
  {
   "cell_type": "code",
   "execution_count": 14,
   "metadata": {},
   "outputs": [],
   "source": [
    "def count_orbits(orbits, node):\n",
    "    orbit_count = 0\n",
    "    next_node = node\n",
    "    while orbits.get(next_node) is not None: #This goes down the path\n",
    "        next_node = orbits.get(next_node)\n",
    "        orbit_count += 1\n",
    "    return orbit_count"
   ]
  },
  {
   "cell_type": "code",
   "execution_count": 21,
   "metadata": {},
   "outputs": [],
   "source": [
    " #Basically the same code as the count_orbits function, except instead of counting, we append planets to the path.\n",
    "def find_path(orbits, node):\n",
    "    orbit_path = []\n",
    "    next_node = node\n",
    "    while orbits.get(next_node) is not None:\n",
    "        next_node = orbits.get(next_node)\n",
    "        orbit_path.append(next_node)\n",
    "    return orbit_path"
   ]
  },
  {
   "cell_type": "code",
   "execution_count": 22,
   "metadata": {},
   "outputs": [],
   "source": [
    "def part_one():\n",
    "    orbit_count = 0\n",
    "    for node in orbits.keys():\n",
    "        orbit_count += count_orbits(orbits, node)\n",
    "    return orbit_count"
   ]
  },
  {
   "cell_type": "code",
   "execution_count": 23,
   "metadata": {},
   "outputs": [
    {
     "data": {
      "text/plain": [
       "247089"
      ]
     },
     "execution_count": 23,
     "metadata": {},
     "output_type": "execute_result"
    }
   ],
   "source": [
    "part_one()"
   ]
  },
  {
   "cell_type": "markdown",
   "metadata": {},
   "source": [
    "## Part Two\n",
    "\n",
    "Now, you just need to figure out how many orbital transfers you (YOU) need to take to get to Santa (SAN).\n",
    "\n",
    "You start at the object YOU are orbiting; your destination is the object SAN is orbiting. An orbital transfer lets you move from any object to an object orbiting or orbited by that object.\n",
    "\n",
    "For example, suppose you have the following map:\n",
    "\n",
    "- COM)B\n",
    "- B)C\n",
    "- C)D\n",
    "- D)E\n",
    "- E)F\n",
    "- B)G\n",
    "- G)H\n",
    "- D)I\n",
    "- E)J\n",
    "- J)K\n",
    "- K)L\n",
    "- K)YOU\n",
    "- I)SAN\n",
    "\n",
    "Visually, the above map of orbits looks like this:\n",
    "<pre>\n",
    "                          YOU\n",
    "                         /\n",
    "        G - H       J - K - L\n",
    "       /           /\n",
    "COM - B - C - D - E - F\n",
    "               \\\n",
    "                I - SAN\n",
    "</pre>                \n",
    "In this example, YOU are in orbit around K, and SAN is in orbit around I. To move from K to I, a minimum of 4 orbital transfers are required:\n",
    "\n",
    "- K to J\n",
    "- J to E\n",
    "- E to D\n",
    "- D to I\n",
    "\n",
    "\n",
    "Afterward, the map of orbits looks like this:\n",
    "<pre>\n",
    "        G - H       J - K - L\n",
    "       /           /\n",
    "COM - B - C - D - E - F\n",
    "               \\\n",
    "                I - SAN\n",
    "                 \\\n",
    "                  YOU\n",
    "</pre>                  \n",
    "                  \n",
    "**What is the minimum number of orbital transfers required to move from the object YOU are orbiting to the object SAN is orbiting? (Between the objects they are orbiting - not between YOU and SAN.)**"
   ]
  },
  {
   "cell_type": "code",
   "execution_count": 24,
   "metadata": {},
   "outputs": [],
   "source": [
    "def part_two():\n",
    "    orbital_transfers_you = find_path(orbits, 'YOU')\n",
    "    orbital_transfers_santa = find_path(orbits, 'SAN')\n",
    "    count_you = len(orbital_transfers_you) - 1\n",
    "    count_san = len(orbital_transfers_santa) - 1\n",
    "    while orbital_transfers_you[count_you] == orbital_transfers_santa[count_san]:\n",
    "        count_you -= 1\n",
    "        count_san -= 1\n",
    "    return count_you + count_san + 2"
   ]
  },
  {
   "cell_type": "code",
   "execution_count": 25,
   "metadata": {},
   "outputs": [
    {
     "data": {
      "text/plain": [
       "442"
      ]
     },
     "execution_count": 25,
     "metadata": {},
     "output_type": "execute_result"
    }
   ],
   "source": [
    "part_two()"
   ]
  },
  {
   "cell_type": "markdown",
   "metadata": {},
   "source": [
    "## Leftover code --- saving it here for now."
   ]
  },
  {
   "cell_type": "code",
   "execution_count": 43,
   "metadata": {},
   "outputs": [],
   "source": [
    "\n",
    "\n",
    "## When I get wi-fi, I should look up a regex for the right parentheses, that way, this won't depend\n",
    "# on the planets having 3 characters. It's making it more challenging (but still doable) to test.\n",
    "\n",
    "## NEED TO USE RECURSION!!!!\n",
    "\n",
    "def create_dict_of_direct_orbit_counts(orbits):\n",
    "    dict_of_direct_orbit_counts = {}\n",
    "    for orbit in orbits:\n",
    "        if orbit[4:6] in dict_of_direct_orbit_counts:\n",
    "            dict_of_direct_orbit_counts[orbit[4:]] += 1\n",
    "        else: \n",
    "            dict_of_direct_orbit_counts[orbit[4:]] = 1\n",
    "            \n",
    "    return dict_of_direct_orbit_counts\n",
    "\n",
    "def add_indirect_orbits(orbits, dictionary):\n",
    "    dict_of_indirect_orbit_counts = {}\n",
    "    for orbit in orbits:\n",
    "        if orbit[0:3] in dictionary.keys():\n",
    "            dict_of_indirect_orbit_counts[orbit[0:3]] += 1 \n",
    "        else: \n",
    "            dict_of_indirect_orbit_counts[orbit[0:3]] = 1  \n",
    "            \n",
    "    return dict_of_indirect_orbit_counts\n",
    "            \n",
    "        \n",
    "def sum_of_orbits(dictionary1, dictionary2):\n",
    "    number_of_orbits = 0\n",
    "    for values in dictionary1.values():\n",
    "        number_of_orbits += values\n",
    "    for values in dictionary2.values():\n",
    "        number_of_orbits += values\n",
    "    print(f\"A better approximation for the number of orbits is {number_of_orbits}\")\n",
    "        \n",
    "\n",
    "def go_down_the_path(planet, dictionary):\n",
    "    return dictionary[planet]\n",
    "\n",
    "# I think this is the part that needs fixing. It's not going the next step....\n",
    "def find_orbit_path_length(dictionary):\n",
    "    updated_dictionary = dictionary\n",
    "    for planet in dictionary:\n",
    "        added_orbits = 0\n",
    "        if dictionary[planet] in dictionary.keys() == True:\n",
    "            added_orbits += 1\n",
    "            dictionary[planet] = go_down_the_path(planet, dictionary)\n",
    "        updated_dictionary[planet] += added_orbits\n",
    "    return updated_dictionary\n",
    "\n",
    "def number_of_orbits(dictionary):\n",
    "    number_of_orbits = 0\n",
    "    for values in dictionary.values():\n",
    "        number_of_orbits += values\n",
    "    print(f\"The number of orbits is {number_of_orbits}\")\n",
    "            \n",
    "    \n",
    "    \n",
    "    "
   ]
  },
  {
   "cell_type": "code",
   "execution_count": 44,
   "metadata": {},
   "outputs": [
    {
     "ename": "KeyError",
     "evalue": "'2YQ'",
     "output_type": "error",
     "traceback": [
      "\u001b[1;31m---------------------------------------------------------------------------\u001b[0m",
      "\u001b[1;31mKeyError\u001b[0m                                  Traceback (most recent call last)",
      "\u001b[1;32m<ipython-input-44-b82fc5aa0b2d>\u001b[0m in \u001b[0;36m<module>\u001b[1;34m\u001b[0m\n\u001b[1;32m----> 1\u001b[1;33m \u001b[0msum_of_orbits\u001b[0m\u001b[1;33m(\u001b[0m\u001b[0mcreate_dict_of_direct_orbit_counts\u001b[0m\u001b[1;33m(\u001b[0m\u001b[0morbits\u001b[0m\u001b[1;33m)\u001b[0m\u001b[1;33m,\u001b[0m \u001b[0madd_indirect_orbits\u001b[0m\u001b[1;33m(\u001b[0m\u001b[0morbits\u001b[0m\u001b[1;33m,\u001b[0m \u001b[0mcreate_dict_of_direct_orbit_counts\u001b[0m\u001b[1;33m(\u001b[0m\u001b[0morbits\u001b[0m\u001b[1;33m)\u001b[0m\u001b[1;33m)\u001b[0m\u001b[1;33m)\u001b[0m\u001b[1;33m\u001b[0m\u001b[1;33m\u001b[0m\u001b[0m\n\u001b[0m",
      "\u001b[1;32m<ipython-input-43-324c52939771>\u001b[0m in \u001b[0;36madd_indirect_orbits\u001b[1;34m(orbits, dictionary)\u001b[0m\n\u001b[0;32m     18\u001b[0m     \u001b[1;32mfor\u001b[0m \u001b[0morbit\u001b[0m \u001b[1;32min\u001b[0m \u001b[0morbits\u001b[0m\u001b[1;33m:\u001b[0m\u001b[1;33m\u001b[0m\u001b[1;33m\u001b[0m\u001b[0m\n\u001b[0;32m     19\u001b[0m         \u001b[1;32mif\u001b[0m \u001b[0morbit\u001b[0m\u001b[1;33m[\u001b[0m\u001b[1;36m0\u001b[0m\u001b[1;33m:\u001b[0m\u001b[1;36m3\u001b[0m\u001b[1;33m]\u001b[0m \u001b[1;32min\u001b[0m \u001b[0mdictionary\u001b[0m\u001b[1;33m.\u001b[0m\u001b[0mkeys\u001b[0m\u001b[1;33m(\u001b[0m\u001b[1;33m)\u001b[0m\u001b[1;33m:\u001b[0m\u001b[1;33m\u001b[0m\u001b[1;33m\u001b[0m\u001b[0m\n\u001b[1;32m---> 20\u001b[1;33m             \u001b[0mdict_of_indirect_orbit_counts\u001b[0m\u001b[1;33m[\u001b[0m\u001b[0morbit\u001b[0m\u001b[1;33m[\u001b[0m\u001b[1;36m0\u001b[0m\u001b[1;33m:\u001b[0m\u001b[1;36m3\u001b[0m\u001b[1;33m]\u001b[0m\u001b[1;33m]\u001b[0m \u001b[1;33m+=\u001b[0m \u001b[1;36m1\u001b[0m\u001b[1;33m\u001b[0m\u001b[1;33m\u001b[0m\u001b[0m\n\u001b[0m\u001b[0;32m     21\u001b[0m         \u001b[1;32melse\u001b[0m\u001b[1;33m:\u001b[0m\u001b[1;33m\u001b[0m\u001b[1;33m\u001b[0m\u001b[0m\n\u001b[0;32m     22\u001b[0m             \u001b[0mdict_of_indirect_orbit_counts\u001b[0m\u001b[1;33m[\u001b[0m\u001b[0morbit\u001b[0m\u001b[1;33m[\u001b[0m\u001b[1;36m0\u001b[0m\u001b[1;33m:\u001b[0m\u001b[1;36m3\u001b[0m\u001b[1;33m]\u001b[0m\u001b[1;33m]\u001b[0m \u001b[1;33m=\u001b[0m \u001b[1;36m1\u001b[0m\u001b[1;33m\u001b[0m\u001b[1;33m\u001b[0m\u001b[0m\n",
      "\u001b[1;31mKeyError\u001b[0m: '2YQ'"
     ]
    }
   ],
   "source": [
    "sum_of_orbits(create_dict_of_direct_orbit_counts(orbits), add_indirect_orbits(orbits, create_dict_of_direct_orbit_counts(orbits)))"
   ]
  },
  {
   "cell_type": "code",
   "execution_count": null,
   "metadata": {},
   "outputs": [],
   "source": []
  }
 ],
 "metadata": {
  "kernelspec": {
   "display_name": "Python 3",
   "language": "python",
   "name": "python3"
  },
  "language_info": {
   "codemirror_mode": {
    "name": "ipython",
    "version": 3
   },
   "file_extension": ".py",
   "mimetype": "text/x-python",
   "name": "python",
   "nbconvert_exporter": "python",
   "pygments_lexer": "ipython3",
   "version": "3.7.2"
  }
 },
 "nbformat": 4,
 "nbformat_minor": 2
}
