{
 "cells": [
  {
   "cell_type": "markdown",
   "metadata": {},
   "source": [
    "# Day 12\n",
    "\n",
    "The space near Jupiter is not a very safe place; you need to be careful of a big distracting red spot, extreme radiation, and a whole lot of moons swirling around. You decide to start by tracking the four largest moons: Io, Europa, Ganymede, and Callisto.\n",
    "\n",
    "After a brief scan, you calculate the position of each moon (your puzzle input). You just need to simulate their motion so you can avoid them.\n",
    "\n",
    "Each moon has a 3-dimensional position (x, y, and z) and a 3-dimensional velocity. The position of each moon is given in your scan; the x, y, and z velocity of each moon starts at 0.\n",
    "\n",
    "Simulate the motion of the moons in time steps. Within each time step, first update the velocity of every moon by applying gravity. Then, once all moons' velocities have been updated, update the position of every moon by applying velocity. Time progresses by one step once all of the positions are updated.\n",
    "\n",
    "To apply gravity, consider every pair of moons. On each axis (x, y, and z), the velocity of each moon changes by exactly +1 or -1 to pull the moons together. For example, if Ganymede has an x position of 3, and Callisto has a x position of 5, then Ganymede's x velocity changes by +1 (because 5 > 3) and Callisto's x velocity changes by -1 (because 3 < 5). However, if the positions on a given axis are the same, the velocity on that axis does not change for that pair of moons.\n",
    "\n",
    "Once all gravity has been applied, apply velocity: simply add the velocity of each moon to its own position. For example, if Europa has a position of x=1, y=2, z=3 and a velocity of x=-2, y=0,z=3, then its new position would be x=-1, y=2, z=6. This process does not modify the velocity of any moon.\n",
    "\n",
    "Then, it might help to calculate the total energy in the system. The total energy for a single moon is its potential energy multiplied by its kinetic energy. A moon's potential energy is the sum of the absolute values of its x, y, and z position coordinates. A moon's kinetic energy is the sum of the absolute values of its velocity coordinates. Below, each line shows the calculations for a moon's potential energy (pot), kinetic energy (kin), and total energy:\n",
    "\n",
    "</pre>\n",
    "\n",
    "**What is the total energy in the system after simulating the moons given in your scan for 1000 steps?**"
   ]
  },
  {
   "cell_type": "code",
   "execution_count": 121,
   "metadata": {},
   "outputs": [],
   "source": [
    "# Import the moons and their gravities\n",
    "\n",
    "moons = np.array([[17, -12, 13],[2, 1, 1], [-1, -17, 7], [12, -14, 18]])\n",
    "velocities = np.array([[0, 0, 0], [0, 0, 0], [0, 0, 0], [0, 0, 0]])"
   ]
  },
  {
   "cell_type": "code",
   "execution_count": 12,
   "metadata": {},
   "outputs": [],
   "source": [
    "import numpy as np\n",
    "\n",
    "def apply_gravity(moons, velocities):\n",
    "    for time in range(1000):\n",
    "        for i in range(3):\n",
    "            for position in range(3):\n",
    "                if moons[i][position] < moons[i+1][position]:\n",
    "                    velocities[i][position] += 1\n",
    "                    velocities[i+1][position] -= 1\n",
    "                elif moons[i][position] > moons[i+1][position]:\n",
    "                    velocities[i][position] -= 1\n",
    "                    velocities[i+1][position] += 1\n",
    "        for j in range(2):\n",
    "            for position in range(3):\n",
    "                if moons[j][position] < moons[j+2][position]:\n",
    "                    velocities[j][position] += 1\n",
    "                    velocities[j+2][position] -= 1\n",
    "                elif moons[j][position] > moons[j+2][position]:\n",
    "                    velocities[j][position] -= 1\n",
    "                    velocities[j+2][position] += 1\n",
    "        for position in range(3):\n",
    "            if moons[0][position] < moons[3][position]:\n",
    "                velocities[0][position] += 1\n",
    "                velocities[3][position] -= 1\n",
    "            elif moons[0][position] > moons[3][position]:\n",
    "                velocities[0][position] -= 1\n",
    "                velocities[3][position] += 1\n",
    "        for i in range(4):\n",
    "            moons[i] += velocities[i]\n",
    "    return moons, velocities"
   ]
  },
  {
   "cell_type": "code",
   "execution_count": 13,
   "metadata": {},
   "outputs": [
    {
     "data": {
      "text/plain": [
       "(array([[ 27,  47,  36],\n",
       "        [ 21,   5,  -3],\n",
       "        [-63, -29, -12],\n",
       "        [ 45, -65,  18]]), array([[ 17,  17,  -4],\n",
       "        [ -1, -15,   4],\n",
       "        [ -8,   0,  -9],\n",
       "        [ -8,  -2,   9]]))"
      ]
     },
     "execution_count": 13,
     "metadata": {},
     "output_type": "execute_result"
    }
   ],
   "source": [
    "# Import the moons and their gravities\n",
    "\n",
    "moons = np.array([[17, -12, 13],[2, 1, 1], [-1, -17, 7], [12, -14, 18]])\n",
    "velocities = np.array([[0, 0, 0], [0, 0, 0], [0, 0, 0], [0, 0, 0]])\n",
    "apply_gravity(moons,velocities)"
   ]
  },
  {
   "cell_type": "code",
   "execution_count": 7,
   "metadata": {},
   "outputs": [],
   "source": [
    "def compute_energy(f):\n",
    "    potential_energy = []\n",
    "    kinetic_energy = []\n",
    "    total_energy = 0\n",
    "    for moon in moons:\n",
    "        moon_energy = abs(moon[0]) + abs(moon[1]) + abs(moon[2])\n",
    "        potential_energy.append(moon_energy)\n",
    "    for velocity in velocities:\n",
    "        velocity_energy = abs(velocity[0]) + abs(velocity[1]) + abs(velocity[2])\n",
    "        kinetic_energy.append(velocity_energy)\n",
    "    for i in range(4):\n",
    "        total_energy += potential_energy[i] * kinetic_energy[i]\n",
    "    print(f\"The total energy is {total_energy}\")"
   ]
  },
  {
   "cell_type": "code",
   "execution_count": 14,
   "metadata": {},
   "outputs": [
    {
     "name": "stdout",
     "output_type": "stream",
     "text": [
      "The total energy is 8960\n"
     ]
    }
   ],
   "source": [
    "moons = np.array([[17, -12, 13],[2, 1, 1], [-1, -17, 7], [12, -14, 18]])\n",
    "velocities = np.array([[0, 0, 0], [0, 0, 0], [0, 0, 0], [0, 0, 0]])\n",
    "compute_energy(apply_gravity(moons, velocities))"
   ]
  },
  {
   "cell_type": "markdown",
   "metadata": {},
   "source": [
    "## Part Two:\n",
    "\n"
   ]
  }
 ],
 "metadata": {
  "kernelspec": {
   "display_name": "Python 3",
   "language": "python",
   "name": "python3"
  },
  "language_info": {
   "codemirror_mode": {
    "name": "ipython",
    "version": 3
   },
   "file_extension": ".py",
   "mimetype": "text/x-python",
   "name": "python",
   "nbconvert_exporter": "python",
   "pygments_lexer": "ipython3",
   "version": "3.7.2"
  }
 },
 "nbformat": 4,
 "nbformat_minor": 2
}
