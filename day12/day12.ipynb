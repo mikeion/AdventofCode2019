{
 "cells": [
  {
   "cell_type": "markdown",
   "metadata": {},
   "source": [
    "# Day 12\n",
    "\n",
    "The space near Jupiter is not a very safe place; you need to be careful of a big distracting red spot, extreme radiation, and a whole lot of moons swirling around. You decide to start by tracking the four largest moons: Io, Europa, Ganymede, and Callisto.\n",
    "\n",
    "After a brief scan, you calculate the position of each moon (your puzzle input). You just need to simulate their motion so you can avoid them.\n",
    "\n",
    "Each moon has a 3-dimensional position (x, y, and z) and a 3-dimensional velocity. The position of each moon is given in your scan; the x, y, and z velocity of each moon starts at 0.\n",
    "\n",
    "Simulate the motion of the moons in time steps. Within each time step, first update the velocity of every moon by applying gravity. Then, once all moons' velocities have been updated, update the position of every moon by applying velocity. Time progresses by one step once all of the positions are updated.\n",
    "\n",
    "To apply gravity, consider every pair of moons. On each axis (x, y, and z), the velocity of each moon changes by exactly +1 or -1 to pull the moons together. For example, if Ganymede has an x position of 3, and Callisto has a x position of 5, then Ganymede's x velocity changes by +1 (because 5 > 3) and Callisto's x velocity changes by -1 (because 3 < 5). However, if the positions on a given axis are the same, the velocity on that axis does not change for that pair of moons.\n",
    "\n",
    "Once all gravity has been applied, apply velocity: simply add the velocity of each moon to its own position. For example, if Europa has a position of x=1, y=2, z=3 and a velocity of x=-2, y=0,z=3, then its new position would be x=-1, y=2, z=6. This process does not modify the velocity of any moon.\n",
    "\n",
    "Then, it might help to calculate the total energy in the system. The total energy for a single moon is its potential energy multiplied by its kinetic energy. A moon's potential energy is the sum of the absolute values of its x, y, and z position coordinates. A moon's kinetic energy is the sum of the absolute values of its velocity coordinates. Below, each line shows the calculations for a moon's potential energy (pot), kinetic energy (kin), and total energy:\n",
    "\n",
    "</pre>\n",
    "\n",
    "**What is the total energy in the system after simulating the moons given in your scan for 1000 steps?**"
   ]
  },
  {
   "cell_type": "code",
   "execution_count": 3,
   "metadata": {},
   "outputs": [],
   "source": [
    "# Import the moons and their gravities\n",
    "\n",
    "moons = np.array([[17, -12, 13],[2, 1, 1], [-1, -17, 7], [12, -14, 18]])\n",
    "velocities = np.array([[0, 0, 0], [0, 0, 0], [0, 0, 0], [0, 0, 0]])"
   ]
  },
  {
   "cell_type": "code",
   "execution_count": 4,
   "metadata": {},
   "outputs": [],
   "source": [
    "import numpy as np\n",
    "\n",
    "def apply_gravity(moons, velocities):\n",
    "    for time in range(1000):\n",
    "        for i in range(3):\n",
    "            for position in range(3):\n",
    "                if moons[i][position] < moons[i+1][position]:\n",
    "                    velocities[i][position] += 1\n",
    "                    velocities[i+1][position] -= 1\n",
    "                elif moons[i][position] > moons[i+1][position]:\n",
    "                    velocities[i][position] -= 1\n",
    "                    velocities[i+1][position] += 1\n",
    "        for j in range(2):\n",
    "            for position in range(3):\n",
    "                if moons[j][position] < moons[j+2][position]:\n",
    "                    velocities[j][position] += 1\n",
    "                    velocities[j+2][position] -= 1\n",
    "                elif moons[j][position] > moons[j+2][position]:\n",
    "                    velocities[j][position] -= 1\n",
    "                    velocities[j+2][position] += 1\n",
    "        for position in range(3):\n",
    "            if moons[0][position] < moons[3][position]:\n",
    "                velocities[0][position] += 1\n",
    "                velocities[3][position] -= 1\n",
    "            elif moons[0][position] > moons[3][position]:\n",
    "                velocities[0][position] -= 1\n",
    "                velocities[3][position] += 1\n",
    "        for i in range(4):\n",
    "            moons[i] += velocities[i]\n",
    "    return moons, velocities"
   ]
  },
  {
   "cell_type": "code",
   "execution_count": 5,
   "metadata": {},
   "outputs": [
    {
     "data": {
      "text/plain": [
       "(array([[ 27,  47,  36],\n",
       "        [ 21,   5,  -3],\n",
       "        [-63, -29, -12],\n",
       "        [ 45, -65,  18]]), array([[ 17,  17,  -4],\n",
       "        [ -1, -15,   4],\n",
       "        [ -8,   0,  -9],\n",
       "        [ -8,  -2,   9]]))"
      ]
     },
     "execution_count": 5,
     "metadata": {},
     "output_type": "execute_result"
    }
   ],
   "source": [
    "# Import the moons and their gravities\n",
    "moons = np.array([[17, -12, 13],[2, 1, 1], [-1, -17, 7], [12, -14, 18]])\n",
    "velocities = np.array([[0, 0, 0], [0, 0, 0], [0, 0, 0], [0, 0, 0]])\n",
    "apply_gravity(moons,velocities)"
   ]
  },
  {
   "cell_type": "code",
   "execution_count": 6,
   "metadata": {},
   "outputs": [],
   "source": [
    "def compute_energy(f):\n",
    "    potential_energy = []\n",
    "    kinetic_energy = []\n",
    "    total_energy = 0\n",
    "    for moon in moons:\n",
    "        moon_energy = abs(moon[0]) + abs(moon[1]) + abs(moon[2])\n",
    "        potential_energy.append(moon_energy)\n",
    "    for velocity in velocities:\n",
    "        velocity_energy = abs(velocity[0]) + abs(velocity[1]) + abs(velocity[2])\n",
    "        kinetic_energy.append(velocity_energy)\n",
    "    for i in range(4):\n",
    "        total_energy += potential_energy[i] * kinetic_energy[i]\n",
    "    print(f\"The total energy is {total_energy}\")"
   ]
  },
  {
   "cell_type": "code",
   "execution_count": 7,
   "metadata": {},
   "outputs": [
    {
     "name": "stdout",
     "output_type": "stream",
     "text": [
      "The total energy is 8960\n"
     ]
    }
   ],
   "source": [
    "moons = np.array([[17, -12, 13],[2, 1, 1], [-1, -17, 7], [12, -14, 18]])\n",
    "velocities = np.array([[0, 0, 0], [0, 0, 0], [0, 0, 0], [0, 0, 0]])\n",
    "compute_energy(apply_gravity(moons, velocities))"
   ]
  },
  {
   "cell_type": "markdown",
   "metadata": {},
   "source": [
    "## Part Two:\n",
    "\n",
    "All this drifting around in space makes you wonder about the nature of the universe. Does history really repeat itself? You're curious whether the moons will ever return to a previous state.\n",
    "\n",
    "Determine the number of steps that must occur before all of the moons' positions and velocities exactly match a previous point in time.\n",
    "\n",
    "\n",
    "**How many steps does it take to reach the first state that exactly matches a previous state?** \n"
   ]
  },
  {
   "cell_type": "code",
   "execution_count": 12,
   "metadata": {},
   "outputs": [],
   "source": [
    "#from collections import defaultdict\n",
    "import numpy as np\n",
    "\n",
    "def apply_gravity_and_determine_cycles(moons, velocities):\n",
    "    initial_moons = np.array([[-1,0, 2], [2, -10, -7], [4, -8, 8], [3,5, -1]])\n",
    "    #initial_moons = np.array([[17, -12, 13],[2, 1, 1], [-1, -17, 7], [12, -14, 18]])\n",
    "    initial_velocities = np.array([[0, 0, 0], [0, 0, 0], [0, 0, 0], [0, 0, 0]])\n",
    "    periods_of_axes = {}\n",
    "    time = 0\n",
    "    while len(periods_of_axes) < 3:\n",
    "        time+= 1\n",
    "        for i in range(3):\n",
    "            for position in range(3):\n",
    "                if moons[i][position] < moons[i+1][position]:\n",
    "                    velocities[i][position] += 1\n",
    "                    velocities[i+1][position] -= 1\n",
    "                elif moons[i][position] > moons[i+1][position]:\n",
    "                    velocities[i][position] -= 1\n",
    "                    velocities[i+1][position] += 1\n",
    "        for j in range(2):\n",
    "            for position in range(3):\n",
    "                if moons[j][position] < moons[j+2][position]:\n",
    "                    velocities[j][position] += 1\n",
    "                    velocities[j+2][position] -= 1\n",
    "                elif moons[j][position] > moons[j+2][position]:\n",
    "                    velocities[j][position] -= 1\n",
    "                    velocities[j+2][position] += 1\n",
    "        for position in range(3):\n",
    "            if moons[0][position] < moons[3][position]:\n",
    "                velocities[0][position] += 1\n",
    "                velocities[3][position] -= 1\n",
    "            elif moons[0][position] > moons[3][position]:\n",
    "                velocities[0][position] -= 1\n",
    "                velocities[3][position] += 1\n",
    "        for k in range(4):\n",
    "            count = 0\n",
    "            moons[k] += velocities[k]\n",
    "            \n",
    "        for axis in range(3):\n",
    "            count = 0\n",
    "            for i, moon in enumerate(moons):\n",
    "                if moon[axis] == initial_moons[i][axis]:\n",
    "                    count +=1\n",
    "            if count == 4:\n",
    "                if axis not in periods_of_axes.keys():\n",
    "                    periods_of_axes[axis] = time\n",
    "                    print(periods_of_axes)\n",
    "                    print(f\"This is the position of the moons when the moons align on axis {axis}\")\n",
    "                    print(moons)\n",
    "                #if axis not in periods_of_axes and initial_moons[axis] == [m[axis] for m in moons]: \n",
    "                #periods_of_axes[axis] = time\n",
    "    \n",
    "    "
   ]
  },
  {
   "cell_type": "code",
   "execution_count": 11,
   "metadata": {
    "scrolled": true
   },
   "outputs": [
    {
     "name": "stdout",
     "output_type": "stream",
     "text": [
      "{0: 56343}\n",
      "This is the position of the moons when the moons align on axis 0\n",
      "[[  17  324  539]\n",
      " [   2 -357 -169]\n",
      " [  -1   79 -313]\n",
      " [  12  -88  -18]]\n",
      "{0: 56343, 2: 193051}\n",
      "This is the position of the moons when the moons align on axis 2\n",
      "[[ 135  972   13]\n",
      " [  53 -170    1]\n",
      " [ -99 -409    7]\n",
      " [ -59 -435   18]]\n",
      "{0: 56343, 2: 193051, 1: 231613}\n",
      "This is the position of the moons when the moons align on axis 1\n",
      "[[ 102  -12   52]\n",
      " [-128    1   64]\n",
      " [  22  -17    5]\n",
      " [  34  -14  -82]]\n"
     ]
    }
   ],
   "source": [
    "moons = np.array([[17, -12, 13],[2, 1, 1], [-1, -17, 7], [12, -14, 18]])\n",
    "velocities = np.array([[0, 0, 0], [0, 0, 0], [0, 0, 0], [0, 0, 0]])\n",
    "apply_gravity_and_determine_cycles(moons, velocities)"
   ]
  },
  {
   "cell_type": "code",
   "execution_count": 90,
   "metadata": {},
   "outputs": [],
   "source": [
    "from math import gcd # Python versions 3.5 and above\n",
    "from functools import reduce # Python version 3.x\n",
    "\n",
    "def lcm(denominators):\n",
    "    return reduce(lambda a,b: a*b // gcd(a,b), denominators)"
   ]
  },
  {
   "cell_type": "code",
   "execution_count": 14,
   "metadata": {},
   "outputs": [
    {
     "name": "stdout",
     "output_type": "stream",
     "text": [
      "{0: 17}\n",
      "This is the position of the moons when the moons align on axis 0\n",
      "[[-1  1 -6]\n",
      " [ 2 -8  1]\n",
      " [ 4 -6  0]\n",
      " [ 3  0  7]]\n",
      "{0: 17, 1: 27}\n",
      "This is the position of the moons when the moons align on axis 1\n",
      "[[  5   0  -4]\n",
      " [  2 -10  -1]\n",
      " [  0  -8   2]\n",
      " [  1   5   5]]\n",
      "{0: 17, 1: 27, 2: 43}\n",
      "This is the position of the moons when the moons align on axis 2\n",
      "[[ 2 -7  2]\n",
      " [ 1  2 -7]\n",
      " [ 3 -1  8]\n",
      " [ 2 -7 -1]]\n"
     ]
    }
   ],
   "source": [
    "test_moons = np.array([[-1,0, 2], [2, -10, -7], [4, -8, 8], [3,5, -1]])\n",
    "velocities = np.array([[0, 0, 0], [0, 0, 0], [0, 0, 0], [0, 0, 0]])\n",
    "apply_gravity_and_determine_cycles(test_moons, velocities)"
   ]
  },
  {
   "cell_type": "code",
   "execution_count": 79,
   "metadata": {},
   "outputs": [],
   "source": [
    "randomNumbers = [112685,386101,463225]"
   ]
  },
  {
   "cell_type": "code",
   "execution_count": 80,
   "metadata": {},
   "outputs": [
    {
     "data": {
      "text/plain": [
       "4030779314334325"
      ]
     },
     "execution_count": 80,
     "metadata": {},
     "output_type": "execute_result"
    }
   ],
   "source": [
    "lcm(randomNumbers)"
   ]
  },
  {
   "cell_type": "code",
   "execution_count": null,
   "metadata": {},
   "outputs": [],
   "source": []
  }
 ],
 "metadata": {
  "kernelspec": {
   "display_name": "Python 3",
   "language": "python",
   "name": "python3"
  },
  "language_info": {
   "codemirror_mode": {
    "name": "ipython",
    "version": 3
   },
   "file_extension": ".py",
   "mimetype": "text/x-python",
   "name": "python",
   "nbconvert_exporter": "python",
   "pygments_lexer": "ipython3",
   "version": "3.7.2"
  }
 },
 "nbformat": 4,
 "nbformat_minor": 2
}
